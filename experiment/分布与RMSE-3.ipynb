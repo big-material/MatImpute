{
 "cells": [
  {
   "cell_type": "code",
   "execution_count": 1,
   "id": "initial_id",
   "metadata": {
    "collapsed": true,
    "ExecuteTime": {
     "end_time": "2024-05-08T07:45:46.734510Z",
     "start_time": "2024-05-08T07:45:43.011040Z"
    }
   },
   "outputs": [
    {
     "name": "stderr",
     "output_type": "stream",
     "text": [
      "D:\\software\\miniconda\\Lib\\site-packages\\pydantic\\_internal\\_fields.py:149: UserWarning: Field \"model_name\" has conflict with protected namespace \"model_\".\n",
      "\n",
      "You may be able to resolve this warning by setting `model_config['protected_namespaces'] = ()`.\n",
      "  warnings.warn(\n"
     ]
    }
   ],
   "source": [
    "from hyperimpute.plugins.imputers import Imputers, ImputerPlugin\n",
    "from Impute import fill_with_et\n",
    "from hyperimpute.plugins.utils.metrics import RMSE\n",
    "\n",
    "imputers = Imputers()\n",
    "\n",
    "\n",
    "class EtImputer(ImputerPlugin):\n",
    "    def __init__(self, *args, **kwargs):\n",
    "        super().__init__(*args, **kwargs)\n",
    "        self._model = fill_with_et\n",
    "\n",
    "    @staticmethod\n",
    "    def name():\n",
    "        return \"et\"\n",
    "\n",
    "    @staticmethod\n",
    "    def hyperparameter_space():\n",
    "        return []\n",
    "\n",
    "    def _fit(self, *args, **kwargs):\n",
    "        return self\n",
    "\n",
    "    def _transform(self, df):\n",
    "        # 按照缺失值的比例进行排序\n",
    "        miss_rate = df.isnull().sum() / df.shape[0]\n",
    "        cols = miss_rate.sort_values().index.tolist()\n",
    "        cols = [col for col in cols if miss_rate[col] > 0]\n",
    "        for col in cols:\n",
    "            df_col_filled = self._model(df, col)\n",
    "            df[col] = df_col_filled[col]\n",
    "        return df\n",
    "\n",
    "\n",
    "imputers.add(\"et\", EtImputer)\n",
    "\n",
    "hyper = imputers.get(\"hyperimpute\", n_inner_iter=1)\n",
    "et = imputers.get(\"et\")\n",
    "missforest = imputers.get(\"missforest\")\n",
    "gain = imputers.get(\"gain\")\n",
    "sinkhorn = imputers.get(\"sinkhorn\")\n",
    "mean = imputers.get(\"mean\")"
   ]
  },
  {
   "cell_type": "code",
   "outputs": [
    {
     "data": {
      "text/plain": "          Compound  xBi(Me1Me2)O3   xPT  Tolerance_Factor  \\\n0        BiFeO3-PT           0.20  0.80            1.0152   \n1        BiFeO3-PT           0.30  0.70            1.0095   \n2        BiFeO3-PT           0.40  0.60            1.0036   \n3        BiFeO3-PT           0.50  0.50            0.9975   \n4        BiFeO3-PT           0.60  0.40            0.9916   \n..             ...            ...   ...               ...   \n127  Bi(ScIn)O3-PT           0.35  0.65            0.9854   \n128  Bi(ScIn)O3-PT           0.37  0.63            0.9831   \n129  Bi(ScGa)O3-PT           0.25  0.75            1.0057   \n130  Bi(ScFe)O3-PT           0.40  0.60            0.9842   \n131  Bi(CoFe)O3-PT           0.20  0.80            1.0162   \n\n     Ionic_Displacements  Ferroelectric_Tc_in_Kelvin  \n0                 0.0878                         816  \n1                 0.0935                         840  \n2                 0.0994                         864  \n3                 0.1055                         915  \n4                 0.1114                         956  \n..                   ...                         ...  \n127               0.0789                         728  \n128               0.0791                         718  \n129               0.0771                         798  \n130               0.0839                         728  \n131               0.0890                         898  \n\n[132 rows x 6 columns]",
      "text/html": "<div>\n<style scoped>\n    .dataframe tbody tr th:only-of-type {\n        vertical-align: middle;\n    }\n\n    .dataframe tbody tr th {\n        vertical-align: top;\n    }\n\n    .dataframe thead th {\n        text-align: right;\n    }\n</style>\n<table border=\"1\" class=\"dataframe\">\n  <thead>\n    <tr style=\"text-align: right;\">\n      <th></th>\n      <th>Compound</th>\n      <th>xBi(Me1Me2)O3</th>\n      <th>xPT</th>\n      <th>Tolerance_Factor</th>\n      <th>Ionic_Displacements</th>\n      <th>Ferroelectric_Tc_in_Kelvin</th>\n    </tr>\n  </thead>\n  <tbody>\n    <tr>\n      <th>0</th>\n      <td>BiFeO3-PT</td>\n      <td>0.20</td>\n      <td>0.80</td>\n      <td>1.0152</td>\n      <td>0.0878</td>\n      <td>816</td>\n    </tr>\n    <tr>\n      <th>1</th>\n      <td>BiFeO3-PT</td>\n      <td>0.30</td>\n      <td>0.70</td>\n      <td>1.0095</td>\n      <td>0.0935</td>\n      <td>840</td>\n    </tr>\n    <tr>\n      <th>2</th>\n      <td>BiFeO3-PT</td>\n      <td>0.40</td>\n      <td>0.60</td>\n      <td>1.0036</td>\n      <td>0.0994</td>\n      <td>864</td>\n    </tr>\n    <tr>\n      <th>3</th>\n      <td>BiFeO3-PT</td>\n      <td>0.50</td>\n      <td>0.50</td>\n      <td>0.9975</td>\n      <td>0.1055</td>\n      <td>915</td>\n    </tr>\n    <tr>\n      <th>4</th>\n      <td>BiFeO3-PT</td>\n      <td>0.60</td>\n      <td>0.40</td>\n      <td>0.9916</td>\n      <td>0.1114</td>\n      <td>956</td>\n    </tr>\n    <tr>\n      <th>...</th>\n      <td>...</td>\n      <td>...</td>\n      <td>...</td>\n      <td>...</td>\n      <td>...</td>\n      <td>...</td>\n    </tr>\n    <tr>\n      <th>127</th>\n      <td>Bi(ScIn)O3-PT</td>\n      <td>0.35</td>\n      <td>0.65</td>\n      <td>0.9854</td>\n      <td>0.0789</td>\n      <td>728</td>\n    </tr>\n    <tr>\n      <th>128</th>\n      <td>Bi(ScIn)O3-PT</td>\n      <td>0.37</td>\n      <td>0.63</td>\n      <td>0.9831</td>\n      <td>0.0791</td>\n      <td>718</td>\n    </tr>\n    <tr>\n      <th>129</th>\n      <td>Bi(ScGa)O3-PT</td>\n      <td>0.25</td>\n      <td>0.75</td>\n      <td>1.0057</td>\n      <td>0.0771</td>\n      <td>798</td>\n    </tr>\n    <tr>\n      <th>130</th>\n      <td>Bi(ScFe)O3-PT</td>\n      <td>0.40</td>\n      <td>0.60</td>\n      <td>0.9842</td>\n      <td>0.0839</td>\n      <td>728</td>\n    </tr>\n    <tr>\n      <th>131</th>\n      <td>Bi(CoFe)O3-PT</td>\n      <td>0.20</td>\n      <td>0.80</td>\n      <td>1.0162</td>\n      <td>0.0890</td>\n      <td>898</td>\n    </tr>\n  </tbody>\n</table>\n<p>132 rows × 6 columns</p>\n</div>"
     },
     "execution_count": 2,
     "metadata": {},
     "output_type": "execute_result"
    }
   ],
   "source": [
    "import pandas as pd\n",
    "\n",
    "df = pd.read_csv(\"./dataset/Bala_regression_dataset.csv\")\n",
    "df"
   ],
   "metadata": {
    "collapsed": false,
    "ExecuteTime": {
     "end_time": "2024-05-08T07:45:52.595978Z",
     "start_time": "2024-05-08T07:45:52.569363Z"
    }
   },
   "id": "9ae8b1b7bd326b91",
   "execution_count": 2
  },
  {
   "cell_type": "code",
   "outputs": [
    {
     "data": {
      "text/plain": "     xBi(Me1Me2)O3   xPT  Tolerance_Factor  Ionic_Displacements  \\\n0             0.20  0.80            1.0152               0.0878   \n1             0.30  0.70            1.0095               0.0935   \n2             0.40  0.60            1.0036               0.0994   \n3             0.50  0.50            0.9975               0.1055   \n4             0.60  0.40            0.9916               0.1114   \n..             ...   ...               ...                  ...   \n127           0.35  0.65            0.9854               0.0789   \n128           0.37  0.63            0.9831               0.0791   \n129           0.25  0.75            1.0057               0.0771   \n130           0.40  0.60            0.9842               0.0839   \n131           0.20  0.80            1.0162               0.0890   \n\n     Ferroelectric_Tc_in_Kelvin  \n0                           816  \n1                           840  \n2                           864  \n3                           915  \n4                           956  \n..                          ...  \n127                         728  \n128                         718  \n129                         798  \n130                         728  \n131                         898  \n\n[132 rows x 5 columns]",
      "text/html": "<div>\n<style scoped>\n    .dataframe tbody tr th:only-of-type {\n        vertical-align: middle;\n    }\n\n    .dataframe tbody tr th {\n        vertical-align: top;\n    }\n\n    .dataframe thead th {\n        text-align: right;\n    }\n</style>\n<table border=\"1\" class=\"dataframe\">\n  <thead>\n    <tr style=\"text-align: right;\">\n      <th></th>\n      <th>xBi(Me1Me2)O3</th>\n      <th>xPT</th>\n      <th>Tolerance_Factor</th>\n      <th>Ionic_Displacements</th>\n      <th>Ferroelectric_Tc_in_Kelvin</th>\n    </tr>\n  </thead>\n  <tbody>\n    <tr>\n      <th>0</th>\n      <td>0.20</td>\n      <td>0.80</td>\n      <td>1.0152</td>\n      <td>0.0878</td>\n      <td>816</td>\n    </tr>\n    <tr>\n      <th>1</th>\n      <td>0.30</td>\n      <td>0.70</td>\n      <td>1.0095</td>\n      <td>0.0935</td>\n      <td>840</td>\n    </tr>\n    <tr>\n      <th>2</th>\n      <td>0.40</td>\n      <td>0.60</td>\n      <td>1.0036</td>\n      <td>0.0994</td>\n      <td>864</td>\n    </tr>\n    <tr>\n      <th>3</th>\n      <td>0.50</td>\n      <td>0.50</td>\n      <td>0.9975</td>\n      <td>0.1055</td>\n      <td>915</td>\n    </tr>\n    <tr>\n      <th>4</th>\n      <td>0.60</td>\n      <td>0.40</td>\n      <td>0.9916</td>\n      <td>0.1114</td>\n      <td>956</td>\n    </tr>\n    <tr>\n      <th>...</th>\n      <td>...</td>\n      <td>...</td>\n      <td>...</td>\n      <td>...</td>\n      <td>...</td>\n    </tr>\n    <tr>\n      <th>127</th>\n      <td>0.35</td>\n      <td>0.65</td>\n      <td>0.9854</td>\n      <td>0.0789</td>\n      <td>728</td>\n    </tr>\n    <tr>\n      <th>128</th>\n      <td>0.37</td>\n      <td>0.63</td>\n      <td>0.9831</td>\n      <td>0.0791</td>\n      <td>718</td>\n    </tr>\n    <tr>\n      <th>129</th>\n      <td>0.25</td>\n      <td>0.75</td>\n      <td>1.0057</td>\n      <td>0.0771</td>\n      <td>798</td>\n    </tr>\n    <tr>\n      <th>130</th>\n      <td>0.40</td>\n      <td>0.60</td>\n      <td>0.9842</td>\n      <td>0.0839</td>\n      <td>728</td>\n    </tr>\n    <tr>\n      <th>131</th>\n      <td>0.20</td>\n      <td>0.80</td>\n      <td>1.0162</td>\n      <td>0.0890</td>\n      <td>898</td>\n    </tr>\n  </tbody>\n</table>\n<p>132 rows × 5 columns</p>\n</div>"
     },
     "execution_count": 3,
     "metadata": {},
     "output_type": "execute_result"
    }
   ],
   "source": [
    "df = df.drop(columns=['Compound'])\n",
    "df"
   ],
   "metadata": {
    "collapsed": false,
    "ExecuteTime": {
     "end_time": "2024-05-08T07:46:07.276848Z",
     "start_time": "2024-05-08T07:46:07.267557Z"
    }
   },
   "id": "4378f2505ad504",
   "execution_count": 3
  },
  {
   "cell_type": "code",
   "outputs": [
    {
     "data": {
      "text/plain": "     xBi(Me1Me2)O3   xPT  Tolerance_Factor  Ionic_Displacements  \\\n0             0.20  0.80            1.0152                  NaN   \n1             0.30  0.70            1.0095                  NaN   \n2             0.40  0.60            1.0036               0.0994   \n3              NaN  0.50               NaN               0.1055   \n4             0.60  0.40               NaN               0.1114   \n..             ...   ...               ...                  ...   \n127           0.35  0.65            0.9854               0.0789   \n128           0.37  0.63            0.9831               0.0791   \n129           0.25  0.75            1.0057               0.0771   \n130           0.40  0.60            0.9842               0.0839   \n131           0.20  0.80            1.0162               0.0890   \n\n     Ferroelectric_Tc_in_Kelvin  \n0                         816.0  \n1                         840.0  \n2                         864.0  \n3                         915.0  \n4                         956.0  \n..                          ...  \n127                       728.0  \n128                       718.0  \n129                       798.0  \n130                       728.0  \n131                       898.0  \n\n[132 rows x 5 columns]",
      "text/html": "<div>\n<style scoped>\n    .dataframe tbody tr th:only-of-type {\n        vertical-align: middle;\n    }\n\n    .dataframe tbody tr th {\n        vertical-align: top;\n    }\n\n    .dataframe thead th {\n        text-align: right;\n    }\n</style>\n<table border=\"1\" class=\"dataframe\">\n  <thead>\n    <tr style=\"text-align: right;\">\n      <th></th>\n      <th>xBi(Me1Me2)O3</th>\n      <th>xPT</th>\n      <th>Tolerance_Factor</th>\n      <th>Ionic_Displacements</th>\n      <th>Ferroelectric_Tc_in_Kelvin</th>\n    </tr>\n  </thead>\n  <tbody>\n    <tr>\n      <th>0</th>\n      <td>0.20</td>\n      <td>0.80</td>\n      <td>1.0152</td>\n      <td>NaN</td>\n      <td>816.0</td>\n    </tr>\n    <tr>\n      <th>1</th>\n      <td>0.30</td>\n      <td>0.70</td>\n      <td>1.0095</td>\n      <td>NaN</td>\n      <td>840.0</td>\n    </tr>\n    <tr>\n      <th>2</th>\n      <td>0.40</td>\n      <td>0.60</td>\n      <td>1.0036</td>\n      <td>0.0994</td>\n      <td>864.0</td>\n    </tr>\n    <tr>\n      <th>3</th>\n      <td>NaN</td>\n      <td>0.50</td>\n      <td>NaN</td>\n      <td>0.1055</td>\n      <td>915.0</td>\n    </tr>\n    <tr>\n      <th>4</th>\n      <td>0.60</td>\n      <td>0.40</td>\n      <td>NaN</td>\n      <td>0.1114</td>\n      <td>956.0</td>\n    </tr>\n    <tr>\n      <th>...</th>\n      <td>...</td>\n      <td>...</td>\n      <td>...</td>\n      <td>...</td>\n      <td>...</td>\n    </tr>\n    <tr>\n      <th>127</th>\n      <td>0.35</td>\n      <td>0.65</td>\n      <td>0.9854</td>\n      <td>0.0789</td>\n      <td>728.0</td>\n    </tr>\n    <tr>\n      <th>128</th>\n      <td>0.37</td>\n      <td>0.63</td>\n      <td>0.9831</td>\n      <td>0.0791</td>\n      <td>718.0</td>\n    </tr>\n    <tr>\n      <th>129</th>\n      <td>0.25</td>\n      <td>0.75</td>\n      <td>1.0057</td>\n      <td>0.0771</td>\n      <td>798.0</td>\n    </tr>\n    <tr>\n      <th>130</th>\n      <td>0.40</td>\n      <td>0.60</td>\n      <td>0.9842</td>\n      <td>0.0839</td>\n      <td>728.0</td>\n    </tr>\n    <tr>\n      <th>131</th>\n      <td>0.20</td>\n      <td>0.80</td>\n      <td>1.0162</td>\n      <td>0.0890</td>\n      <td>898.0</td>\n    </tr>\n  </tbody>\n</table>\n<p>132 rows × 5 columns</p>\n</div>"
     },
     "execution_count": 19,
     "metadata": {},
     "output_type": "execute_result"
    }
   ],
   "source": [
    "from hyperimpute.plugins.utils.simulate import simulate_nan\n",
    "import numpy as np\n",
    "\n",
    "np.random.seed(42)\n",
    "X = df.drop(labels=[], axis=1)\n",
    "# reindex\n",
    "cols = X.columns.tolist()\n",
    "X = np.array(X)\n",
    "\n",
    "sim_df = simulate_nan(X, 0.1, mecha=\"MAR\")\n",
    "X = pd.DataFrame(X, columns=cols)\n",
    "X_with_nan = sim_df[\"X_incomp\"]\n",
    "mask = sim_df[\"mask\"]\n",
    "X_with_nan = pd.DataFrame(X_with_nan, columns=cols)\n",
    "X_with_nan"
   ],
   "metadata": {
    "collapsed": false,
    "ExecuteTime": {
     "end_time": "2024-05-08T07:48:50.016177Z",
     "start_time": "2024-05-08T07:48:50.001853Z"
    }
   },
   "id": "c03283590c2e9871",
   "execution_count": 19
  },
  {
   "cell_type": "code",
   "outputs": [
    {
     "name": "stdout",
     "output_type": "stream",
     "text": [
      "RMSE:  0.008172787062173914\n"
     ]
    },
    {
     "data": {
      "text/plain": "     xBi(Me1Me2)O3   xPT  Tolerance_Factor  Ionic_Displacements  \\\n0           0.2000  0.80          1.015200             0.091198   \n1           0.3000  0.70          1.009500             0.078698   \n2           0.4000  0.60          1.003600             0.099400   \n3           0.5015  0.50          0.996482             0.105500   \n4           0.6000  0.40          0.984803             0.111400   \n..             ...   ...               ...                  ...   \n127         0.3500  0.65          0.985400             0.078900   \n128         0.3700  0.63          0.983100             0.079100   \n129         0.2500  0.75          1.005700             0.077100   \n130         0.4000  0.60          0.984200             0.083900   \n131         0.2000  0.80          1.016200             0.089000   \n\n     Ferroelectric_Tc_in_Kelvin  \n0                         816.0  \n1                         840.0  \n2                         864.0  \n3                         915.0  \n4                         956.0  \n..                          ...  \n127                       728.0  \n128                       718.0  \n129                       798.0  \n130                       728.0  \n131                       898.0  \n\n[132 rows x 5 columns]",
      "text/html": "<div>\n<style scoped>\n    .dataframe tbody tr th:only-of-type {\n        vertical-align: middle;\n    }\n\n    .dataframe tbody tr th {\n        vertical-align: top;\n    }\n\n    .dataframe thead th {\n        text-align: right;\n    }\n</style>\n<table border=\"1\" class=\"dataframe\">\n  <thead>\n    <tr style=\"text-align: right;\">\n      <th></th>\n      <th>xBi(Me1Me2)O3</th>\n      <th>xPT</th>\n      <th>Tolerance_Factor</th>\n      <th>Ionic_Displacements</th>\n      <th>Ferroelectric_Tc_in_Kelvin</th>\n    </tr>\n  </thead>\n  <tbody>\n    <tr>\n      <th>0</th>\n      <td>0.2000</td>\n      <td>0.80</td>\n      <td>1.015200</td>\n      <td>0.091198</td>\n      <td>816.0</td>\n    </tr>\n    <tr>\n      <th>1</th>\n      <td>0.3000</td>\n      <td>0.70</td>\n      <td>1.009500</td>\n      <td>0.078698</td>\n      <td>840.0</td>\n    </tr>\n    <tr>\n      <th>2</th>\n      <td>0.4000</td>\n      <td>0.60</td>\n      <td>1.003600</td>\n      <td>0.099400</td>\n      <td>864.0</td>\n    </tr>\n    <tr>\n      <th>3</th>\n      <td>0.5015</td>\n      <td>0.50</td>\n      <td>0.996482</td>\n      <td>0.105500</td>\n      <td>915.0</td>\n    </tr>\n    <tr>\n      <th>4</th>\n      <td>0.6000</td>\n      <td>0.40</td>\n      <td>0.984803</td>\n      <td>0.111400</td>\n      <td>956.0</td>\n    </tr>\n    <tr>\n      <th>...</th>\n      <td>...</td>\n      <td>...</td>\n      <td>...</td>\n      <td>...</td>\n      <td>...</td>\n    </tr>\n    <tr>\n      <th>127</th>\n      <td>0.3500</td>\n      <td>0.65</td>\n      <td>0.985400</td>\n      <td>0.078900</td>\n      <td>728.0</td>\n    </tr>\n    <tr>\n      <th>128</th>\n      <td>0.3700</td>\n      <td>0.63</td>\n      <td>0.983100</td>\n      <td>0.079100</td>\n      <td>718.0</td>\n    </tr>\n    <tr>\n      <th>129</th>\n      <td>0.2500</td>\n      <td>0.75</td>\n      <td>1.005700</td>\n      <td>0.077100</td>\n      <td>798.0</td>\n    </tr>\n    <tr>\n      <th>130</th>\n      <td>0.4000</td>\n      <td>0.60</td>\n      <td>0.984200</td>\n      <td>0.083900</td>\n      <td>728.0</td>\n    </tr>\n    <tr>\n      <th>131</th>\n      <td>0.2000</td>\n      <td>0.80</td>\n      <td>1.016200</td>\n      <td>0.089000</td>\n      <td>898.0</td>\n    </tr>\n  </tbody>\n</table>\n<p>132 rows × 5 columns</p>\n</div>"
     },
     "execution_count": 20,
     "metadata": {},
     "output_type": "execute_result"
    }
   ],
   "source": [
    "X_filled_et = et.fit_transform(X_with_nan.copy())\n",
    "print(\"RMSE: \", RMSE(X.values, X_filled_et.values, mask))\n",
    "\n",
    "X_filled_et"
   ],
   "metadata": {
    "collapsed": false,
    "ExecuteTime": {
     "end_time": "2024-05-08T07:48:52.259576Z",
     "start_time": "2024-05-08T07:48:52.088898Z"
    }
   },
   "id": "dcfc425b5e03c12f",
   "execution_count": 20
  },
  {
   "cell_type": "code",
   "outputs": [
    {
     "name": "stdout",
     "output_type": "stream",
     "text": [
      "RMSE:  0.03654123455190392\n"
     ]
    },
    {
     "data": {
      "text/plain": "     xBi(Me1Me2)O3   xPT  Tolerance_Factor  Ionic_Displacements  \\\n0         0.200000  0.80          1.015200             0.081621   \n1         0.300000  0.70          1.009500             0.089672   \n2         0.400000  0.60          1.003600             0.099400   \n3         0.501989  0.50          0.994900             0.105500   \n4         0.600000  0.40          0.989159             0.111400   \n..             ...   ...               ...                  ...   \n127       0.350000  0.65          0.985400             0.078900   \n128       0.370000  0.63          0.983100             0.079100   \n129       0.250000  0.75          1.005700             0.077100   \n130       0.400000  0.60          0.984200             0.083900   \n131       0.200000  0.80          1.016200             0.089000   \n\n     Ferroelectric_Tc_in_Kelvin  \n0                         816.0  \n1                         840.0  \n2                         864.0  \n3                         915.0  \n4                         956.0  \n..                          ...  \n127                       728.0  \n128                       718.0  \n129                       798.0  \n130                       728.0  \n131                       898.0  \n\n[132 rows x 5 columns]",
      "text/html": "<div>\n<style scoped>\n    .dataframe tbody tr th:only-of-type {\n        vertical-align: middle;\n    }\n\n    .dataframe tbody tr th {\n        vertical-align: top;\n    }\n\n    .dataframe thead th {\n        text-align: right;\n    }\n</style>\n<table border=\"1\" class=\"dataframe\">\n  <thead>\n    <tr style=\"text-align: right;\">\n      <th></th>\n      <th>xBi(Me1Me2)O3</th>\n      <th>xPT</th>\n      <th>Tolerance_Factor</th>\n      <th>Ionic_Displacements</th>\n      <th>Ferroelectric_Tc_in_Kelvin</th>\n    </tr>\n  </thead>\n  <tbody>\n    <tr>\n      <th>0</th>\n      <td>0.200000</td>\n      <td>0.80</td>\n      <td>1.015200</td>\n      <td>0.081621</td>\n      <td>816.0</td>\n    </tr>\n    <tr>\n      <th>1</th>\n      <td>0.300000</td>\n      <td>0.70</td>\n      <td>1.009500</td>\n      <td>0.089672</td>\n      <td>840.0</td>\n    </tr>\n    <tr>\n      <th>2</th>\n      <td>0.400000</td>\n      <td>0.60</td>\n      <td>1.003600</td>\n      <td>0.099400</td>\n      <td>864.0</td>\n    </tr>\n    <tr>\n      <th>3</th>\n      <td>0.501989</td>\n      <td>0.50</td>\n      <td>0.994900</td>\n      <td>0.105500</td>\n      <td>915.0</td>\n    </tr>\n    <tr>\n      <th>4</th>\n      <td>0.600000</td>\n      <td>0.40</td>\n      <td>0.989159</td>\n      <td>0.111400</td>\n      <td>956.0</td>\n    </tr>\n    <tr>\n      <th>...</th>\n      <td>...</td>\n      <td>...</td>\n      <td>...</td>\n      <td>...</td>\n      <td>...</td>\n    </tr>\n    <tr>\n      <th>127</th>\n      <td>0.350000</td>\n      <td>0.65</td>\n      <td>0.985400</td>\n      <td>0.078900</td>\n      <td>728.0</td>\n    </tr>\n    <tr>\n      <th>128</th>\n      <td>0.370000</td>\n      <td>0.63</td>\n      <td>0.983100</td>\n      <td>0.079100</td>\n      <td>718.0</td>\n    </tr>\n    <tr>\n      <th>129</th>\n      <td>0.250000</td>\n      <td>0.75</td>\n      <td>1.005700</td>\n      <td>0.077100</td>\n      <td>798.0</td>\n    </tr>\n    <tr>\n      <th>130</th>\n      <td>0.400000</td>\n      <td>0.60</td>\n      <td>0.984200</td>\n      <td>0.083900</td>\n      <td>728.0</td>\n    </tr>\n    <tr>\n      <th>131</th>\n      <td>0.200000</td>\n      <td>0.80</td>\n      <td>1.016200</td>\n      <td>0.089000</td>\n      <td>898.0</td>\n    </tr>\n  </tbody>\n</table>\n<p>132 rows × 5 columns</p>\n</div>"
     },
     "execution_count": 21,
     "metadata": {},
     "output_type": "execute_result"
    }
   ],
   "source": [
    "X_filled_hyper = hyper.fit_transform(X_with_nan.copy())\n",
    "print(\"RMSE: \", RMSE(X.values, X_filled_hyper.values, mask))\n",
    "\n",
    "X_filled_hyper"
   ],
   "metadata": {
    "collapsed": false,
    "ExecuteTime": {
     "end_time": "2024-05-08T07:48:54.022076Z",
     "start_time": "2024-05-08T07:48:53.261629Z"
    }
   },
   "id": "3772f6d0db99af0f",
   "execution_count": 21
  },
  {
   "cell_type": "code",
   "outputs": [
    {
     "name": "stdout",
     "output_type": "stream",
     "text": [
      "RMSE:  0.029785684260502286\n"
     ]
    },
    {
     "data": {
      "text/plain": "     xBi(Me1Me2)O3   xPT  Tolerance_Factor  Ionic_Displacements  \\\n0         0.200000  0.80          1.015200             0.081411   \n1         0.300000  0.70          1.009500             0.089848   \n2         0.400000  0.60          1.003600             0.099400   \n3         0.529115  0.50          0.989184             0.105500   \n4         0.600000  0.40          0.988241             0.111400   \n..             ...   ...               ...                  ...   \n127       0.350000  0.65          0.985400             0.078900   \n128       0.370000  0.63          0.983100             0.079100   \n129       0.250000  0.75          1.005700             0.077100   \n130       0.400000  0.60          0.984200             0.083900   \n131       0.200000  0.80          1.016200             0.089000   \n\n     Ferroelectric_Tc_in_Kelvin  \n0                         816.0  \n1                         840.0  \n2                         864.0  \n3                         915.0  \n4                         956.0  \n..                          ...  \n127                       728.0  \n128                       718.0  \n129                       798.0  \n130                       728.0  \n131                       898.0  \n\n[132 rows x 5 columns]",
      "text/html": "<div>\n<style scoped>\n    .dataframe tbody tr th:only-of-type {\n        vertical-align: middle;\n    }\n\n    .dataframe tbody tr th {\n        vertical-align: top;\n    }\n\n    .dataframe thead th {\n        text-align: right;\n    }\n</style>\n<table border=\"1\" class=\"dataframe\">\n  <thead>\n    <tr style=\"text-align: right;\">\n      <th></th>\n      <th>xBi(Me1Me2)O3</th>\n      <th>xPT</th>\n      <th>Tolerance_Factor</th>\n      <th>Ionic_Displacements</th>\n      <th>Ferroelectric_Tc_in_Kelvin</th>\n    </tr>\n  </thead>\n  <tbody>\n    <tr>\n      <th>0</th>\n      <td>0.200000</td>\n      <td>0.80</td>\n      <td>1.015200</td>\n      <td>0.081411</td>\n      <td>816.0</td>\n    </tr>\n    <tr>\n      <th>1</th>\n      <td>0.300000</td>\n      <td>0.70</td>\n      <td>1.009500</td>\n      <td>0.089848</td>\n      <td>840.0</td>\n    </tr>\n    <tr>\n      <th>2</th>\n      <td>0.400000</td>\n      <td>0.60</td>\n      <td>1.003600</td>\n      <td>0.099400</td>\n      <td>864.0</td>\n    </tr>\n    <tr>\n      <th>3</th>\n      <td>0.529115</td>\n      <td>0.50</td>\n      <td>0.989184</td>\n      <td>0.105500</td>\n      <td>915.0</td>\n    </tr>\n    <tr>\n      <th>4</th>\n      <td>0.600000</td>\n      <td>0.40</td>\n      <td>0.988241</td>\n      <td>0.111400</td>\n      <td>956.0</td>\n    </tr>\n    <tr>\n      <th>...</th>\n      <td>...</td>\n      <td>...</td>\n      <td>...</td>\n      <td>...</td>\n      <td>...</td>\n    </tr>\n    <tr>\n      <th>127</th>\n      <td>0.350000</td>\n      <td>0.65</td>\n      <td>0.985400</td>\n      <td>0.078900</td>\n      <td>728.0</td>\n    </tr>\n    <tr>\n      <th>128</th>\n      <td>0.370000</td>\n      <td>0.63</td>\n      <td>0.983100</td>\n      <td>0.079100</td>\n      <td>718.0</td>\n    </tr>\n    <tr>\n      <th>129</th>\n      <td>0.250000</td>\n      <td>0.75</td>\n      <td>1.005700</td>\n      <td>0.077100</td>\n      <td>798.0</td>\n    </tr>\n    <tr>\n      <th>130</th>\n      <td>0.400000</td>\n      <td>0.60</td>\n      <td>0.984200</td>\n      <td>0.083900</td>\n      <td>728.0</td>\n    </tr>\n    <tr>\n      <th>131</th>\n      <td>0.200000</td>\n      <td>0.80</td>\n      <td>1.016200</td>\n      <td>0.089000</td>\n      <td>898.0</td>\n    </tr>\n  </tbody>\n</table>\n<p>132 rows × 5 columns</p>\n</div>"
     },
     "execution_count": 22,
     "metadata": {},
     "output_type": "execute_result"
    }
   ],
   "source": [
    "X_filled_missforest = missforest.fit_transform(X_with_nan.copy())\n",
    "print(\"RMSE: \", RMSE(X.values, X_filled_missforest.values, mask))\n",
    "\n",
    "X_filled_missforest"
   ],
   "metadata": {
    "collapsed": false,
    "ExecuteTime": {
     "end_time": "2024-05-08T07:49:03.474851Z",
     "start_time": "2024-05-08T07:48:54.980906Z"
    }
   },
   "id": "71c7ef1723d9d5cc",
   "execution_count": 22
  },
  {
   "cell_type": "code",
   "outputs": [
    {
     "name": "stdout",
     "output_type": "stream",
     "text": [
      "RMSE:  0.07457266380262673\n"
     ]
    },
    {
     "data": {
      "text/plain": "            0     1         2         3      4\n0    0.200000  0.80  1.015200  0.079631  816.0\n1    0.300000  0.70  1.009500  0.080916  840.0\n2    0.400000  0.60  1.003600  0.099400  864.0\n3    0.467287  0.50  0.991164  0.105500  915.0\n4    0.600000  0.40  0.989969  0.111400  956.0\n..        ...   ...       ...       ...    ...\n127  0.350000  0.65  0.985400  0.078900  728.0\n128  0.370000  0.63  0.983100  0.079100  718.0\n129  0.250000  0.75  1.005700  0.077100  798.0\n130  0.400000  0.60  0.984200  0.083900  728.0\n131  0.200000  0.80  1.016200  0.089000  898.0\n\n[132 rows x 5 columns]",
      "text/html": "<div>\n<style scoped>\n    .dataframe tbody tr th:only-of-type {\n        vertical-align: middle;\n    }\n\n    .dataframe tbody tr th {\n        vertical-align: top;\n    }\n\n    .dataframe thead th {\n        text-align: right;\n    }\n</style>\n<table border=\"1\" class=\"dataframe\">\n  <thead>\n    <tr style=\"text-align: right;\">\n      <th></th>\n      <th>0</th>\n      <th>1</th>\n      <th>2</th>\n      <th>3</th>\n      <th>4</th>\n    </tr>\n  </thead>\n  <tbody>\n    <tr>\n      <th>0</th>\n      <td>0.200000</td>\n      <td>0.80</td>\n      <td>1.015200</td>\n      <td>0.079631</td>\n      <td>816.0</td>\n    </tr>\n    <tr>\n      <th>1</th>\n      <td>0.300000</td>\n      <td>0.70</td>\n      <td>1.009500</td>\n      <td>0.080916</td>\n      <td>840.0</td>\n    </tr>\n    <tr>\n      <th>2</th>\n      <td>0.400000</td>\n      <td>0.60</td>\n      <td>1.003600</td>\n      <td>0.099400</td>\n      <td>864.0</td>\n    </tr>\n    <tr>\n      <th>3</th>\n      <td>0.467287</td>\n      <td>0.50</td>\n      <td>0.991164</td>\n      <td>0.105500</td>\n      <td>915.0</td>\n    </tr>\n    <tr>\n      <th>4</th>\n      <td>0.600000</td>\n      <td>0.40</td>\n      <td>0.989969</td>\n      <td>0.111400</td>\n      <td>956.0</td>\n    </tr>\n    <tr>\n      <th>...</th>\n      <td>...</td>\n      <td>...</td>\n      <td>...</td>\n      <td>...</td>\n      <td>...</td>\n    </tr>\n    <tr>\n      <th>127</th>\n      <td>0.350000</td>\n      <td>0.65</td>\n      <td>0.985400</td>\n      <td>0.078900</td>\n      <td>728.0</td>\n    </tr>\n    <tr>\n      <th>128</th>\n      <td>0.370000</td>\n      <td>0.63</td>\n      <td>0.983100</td>\n      <td>0.079100</td>\n      <td>718.0</td>\n    </tr>\n    <tr>\n      <th>129</th>\n      <td>0.250000</td>\n      <td>0.75</td>\n      <td>1.005700</td>\n      <td>0.077100</td>\n      <td>798.0</td>\n    </tr>\n    <tr>\n      <th>130</th>\n      <td>0.400000</td>\n      <td>0.60</td>\n      <td>0.984200</td>\n      <td>0.083900</td>\n      <td>728.0</td>\n    </tr>\n    <tr>\n      <th>131</th>\n      <td>0.200000</td>\n      <td>0.80</td>\n      <td>1.016200</td>\n      <td>0.089000</td>\n      <td>898.0</td>\n    </tr>\n  </tbody>\n</table>\n<p>132 rows × 5 columns</p>\n</div>"
     },
     "execution_count": 23,
     "metadata": {},
     "output_type": "execute_result"
    }
   ],
   "source": [
    "X_filled_gain = gain.fit_transform(X_with_nan.copy())\n",
    "print(\"RMSE: \", RMSE(X.values, X_filled_gain.values, mask))\n",
    "\n",
    "X_filled_gain"
   ],
   "metadata": {
    "collapsed": false,
    "ExecuteTime": {
     "end_time": "2024-05-08T07:49:11.593576Z",
     "start_time": "2024-05-08T07:49:03.731642Z"
    }
   },
   "id": "1803d2f22df6cd39",
   "execution_count": 23
  },
  {
   "cell_type": "code",
   "outputs": [
    {
     "data": {
      "text/plain": "     xBi(Me1Me2)O3   xPT  Tolerance_Factor  Ionic_Displacements  \\\n0         0.200000  0.80          1.015200             0.079631   \n1         0.300000  0.70          1.009500             0.080916   \n2         0.400000  0.60          1.003600             0.099400   \n3         0.467287  0.50          0.991164             0.105500   \n4         0.600000  0.40          0.989969             0.111400   \n..             ...   ...               ...                  ...   \n127       0.350000  0.65          0.985400             0.078900   \n128       0.370000  0.63          0.983100             0.079100   \n129       0.250000  0.75          1.005700             0.077100   \n130       0.400000  0.60          0.984200             0.083900   \n131       0.200000  0.80          1.016200             0.089000   \n\n     Ferroelectric_Tc_in_Kelvin  \n0                         816.0  \n1                         840.0  \n2                         864.0  \n3                         915.0  \n4                         956.0  \n..                          ...  \n127                       728.0  \n128                       718.0  \n129                       798.0  \n130                       728.0  \n131                       898.0  \n\n[132 rows x 5 columns]",
      "text/html": "<div>\n<style scoped>\n    .dataframe tbody tr th:only-of-type {\n        vertical-align: middle;\n    }\n\n    .dataframe tbody tr th {\n        vertical-align: top;\n    }\n\n    .dataframe thead th {\n        text-align: right;\n    }\n</style>\n<table border=\"1\" class=\"dataframe\">\n  <thead>\n    <tr style=\"text-align: right;\">\n      <th></th>\n      <th>xBi(Me1Me2)O3</th>\n      <th>xPT</th>\n      <th>Tolerance_Factor</th>\n      <th>Ionic_Displacements</th>\n      <th>Ferroelectric_Tc_in_Kelvin</th>\n    </tr>\n  </thead>\n  <tbody>\n    <tr>\n      <th>0</th>\n      <td>0.200000</td>\n      <td>0.80</td>\n      <td>1.015200</td>\n      <td>0.079631</td>\n      <td>816.0</td>\n    </tr>\n    <tr>\n      <th>1</th>\n      <td>0.300000</td>\n      <td>0.70</td>\n      <td>1.009500</td>\n      <td>0.080916</td>\n      <td>840.0</td>\n    </tr>\n    <tr>\n      <th>2</th>\n      <td>0.400000</td>\n      <td>0.60</td>\n      <td>1.003600</td>\n      <td>0.099400</td>\n      <td>864.0</td>\n    </tr>\n    <tr>\n      <th>3</th>\n      <td>0.467287</td>\n      <td>0.50</td>\n      <td>0.991164</td>\n      <td>0.105500</td>\n      <td>915.0</td>\n    </tr>\n    <tr>\n      <th>4</th>\n      <td>0.600000</td>\n      <td>0.40</td>\n      <td>0.989969</td>\n      <td>0.111400</td>\n      <td>956.0</td>\n    </tr>\n    <tr>\n      <th>...</th>\n      <td>...</td>\n      <td>...</td>\n      <td>...</td>\n      <td>...</td>\n      <td>...</td>\n    </tr>\n    <tr>\n      <th>127</th>\n      <td>0.350000</td>\n      <td>0.65</td>\n      <td>0.985400</td>\n      <td>0.078900</td>\n      <td>728.0</td>\n    </tr>\n    <tr>\n      <th>128</th>\n      <td>0.370000</td>\n      <td>0.63</td>\n      <td>0.983100</td>\n      <td>0.079100</td>\n      <td>718.0</td>\n    </tr>\n    <tr>\n      <th>129</th>\n      <td>0.250000</td>\n      <td>0.75</td>\n      <td>1.005700</td>\n      <td>0.077100</td>\n      <td>798.0</td>\n    </tr>\n    <tr>\n      <th>130</th>\n      <td>0.400000</td>\n      <td>0.60</td>\n      <td>0.984200</td>\n      <td>0.083900</td>\n      <td>728.0</td>\n    </tr>\n    <tr>\n      <th>131</th>\n      <td>0.200000</td>\n      <td>0.80</td>\n      <td>1.016200</td>\n      <td>0.089000</td>\n      <td>898.0</td>\n    </tr>\n  </tbody>\n</table>\n<p>132 rows × 5 columns</p>\n</div>"
     },
     "execution_count": 24,
     "metadata": {},
     "output_type": "execute_result"
    }
   ],
   "source": [
    "# set  X_filled_gain cols\n",
    "X_filled_gain.columns = X.columns\n",
    "X_filled_gain"
   ],
   "metadata": {
    "collapsed": false,
    "ExecuteTime": {
     "end_time": "2024-05-08T07:49:11.603778Z",
     "start_time": "2024-05-08T07:49:11.595214Z"
    }
   },
   "id": "2f4a240732f5006f",
   "execution_count": 24
  },
  {
   "cell_type": "code",
   "outputs": [
    {
     "name": "stdout",
     "output_type": "stream",
     "text": [
      "RMSE:  0.08791287245347548\n"
     ]
    }
   ],
   "source": [
    "X_filled_sinkhorn = sinkhorn.fit_transform(X_with_nan.copy())\n",
    "\n",
    "print(\"RMSE: \", RMSE(X.values, X_filled_sinkhorn.values, mask))\n"
   ],
   "metadata": {
    "collapsed": false,
    "ExecuteTime": {
     "end_time": "2024-05-08T07:49:37.105825Z",
     "start_time": "2024-05-08T07:49:11.604963Z"
    }
   },
   "id": "e22e41d648332f8c",
   "execution_count": 25
  },
  {
   "cell_type": "code",
   "outputs": [
    {
     "data": {
      "text/plain": "     xBi(Me1Me2)O3   xPT  Tolerance_Factor  Ionic_Displacements  \\\n0         0.200000  0.80          1.015200             0.086520   \n1         0.300000  0.70          1.009500             0.091688   \n2         0.400000  0.60          1.003600             0.099400   \n3         0.397604  0.50          1.000481             0.105500   \n4         0.600000  0.40          1.001274             0.111400   \n..             ...   ...               ...                  ...   \n127       0.350000  0.65          0.985400             0.078900   \n128       0.370000  0.63          0.983100             0.079100   \n129       0.250000  0.75          1.005700             0.077100   \n130       0.400000  0.60          0.984200             0.083900   \n131       0.200000  0.80          1.016200             0.089000   \n\n     Ferroelectric_Tc_in_Kelvin  \n0                         816.0  \n1                         840.0  \n2                         864.0  \n3                         915.0  \n4                         956.0  \n..                          ...  \n127                       728.0  \n128                       718.0  \n129                       798.0  \n130                       728.0  \n131                       898.0  \n\n[132 rows x 5 columns]",
      "text/html": "<div>\n<style scoped>\n    .dataframe tbody tr th:only-of-type {\n        vertical-align: middle;\n    }\n\n    .dataframe tbody tr th {\n        vertical-align: top;\n    }\n\n    .dataframe thead th {\n        text-align: right;\n    }\n</style>\n<table border=\"1\" class=\"dataframe\">\n  <thead>\n    <tr style=\"text-align: right;\">\n      <th></th>\n      <th>xBi(Me1Me2)O3</th>\n      <th>xPT</th>\n      <th>Tolerance_Factor</th>\n      <th>Ionic_Displacements</th>\n      <th>Ferroelectric_Tc_in_Kelvin</th>\n    </tr>\n  </thead>\n  <tbody>\n    <tr>\n      <th>0</th>\n      <td>0.200000</td>\n      <td>0.80</td>\n      <td>1.015200</td>\n      <td>0.086520</td>\n      <td>816.0</td>\n    </tr>\n    <tr>\n      <th>1</th>\n      <td>0.300000</td>\n      <td>0.70</td>\n      <td>1.009500</td>\n      <td>0.091688</td>\n      <td>840.0</td>\n    </tr>\n    <tr>\n      <th>2</th>\n      <td>0.400000</td>\n      <td>0.60</td>\n      <td>1.003600</td>\n      <td>0.099400</td>\n      <td>864.0</td>\n    </tr>\n    <tr>\n      <th>3</th>\n      <td>0.397604</td>\n      <td>0.50</td>\n      <td>1.000481</td>\n      <td>0.105500</td>\n      <td>915.0</td>\n    </tr>\n    <tr>\n      <th>4</th>\n      <td>0.600000</td>\n      <td>0.40</td>\n      <td>1.001274</td>\n      <td>0.111400</td>\n      <td>956.0</td>\n    </tr>\n    <tr>\n      <th>...</th>\n      <td>...</td>\n      <td>...</td>\n      <td>...</td>\n      <td>...</td>\n      <td>...</td>\n    </tr>\n    <tr>\n      <th>127</th>\n      <td>0.350000</td>\n      <td>0.65</td>\n      <td>0.985400</td>\n      <td>0.078900</td>\n      <td>728.0</td>\n    </tr>\n    <tr>\n      <th>128</th>\n      <td>0.370000</td>\n      <td>0.63</td>\n      <td>0.983100</td>\n      <td>0.079100</td>\n      <td>718.0</td>\n    </tr>\n    <tr>\n      <th>129</th>\n      <td>0.250000</td>\n      <td>0.75</td>\n      <td>1.005700</td>\n      <td>0.077100</td>\n      <td>798.0</td>\n    </tr>\n    <tr>\n      <th>130</th>\n      <td>0.400000</td>\n      <td>0.60</td>\n      <td>0.984200</td>\n      <td>0.083900</td>\n      <td>728.0</td>\n    </tr>\n    <tr>\n      <th>131</th>\n      <td>0.200000</td>\n      <td>0.80</td>\n      <td>1.016200</td>\n      <td>0.089000</td>\n      <td>898.0</td>\n    </tr>\n  </tbody>\n</table>\n<p>132 rows × 5 columns</p>\n</div>"
     },
     "execution_count": 26,
     "metadata": {},
     "output_type": "execute_result"
    }
   ],
   "source": [
    "X_filled_sinkhorn.columns = X.columns\n",
    "\n",
    "X_filled_sinkhorn"
   ],
   "metadata": {
    "collapsed": false,
    "ExecuteTime": {
     "end_time": "2024-05-08T07:49:37.115751Z",
     "start_time": "2024-05-08T07:49:37.106871Z"
    }
   },
   "id": "228a59aba3ae134",
   "execution_count": 26
  },
  {
   "cell_type": "code",
   "outputs": [
    {
     "name": "stdout",
     "output_type": "stream",
     "text": [
      "RMSE:  0.14227842977774638\n"
     ]
    },
    {
     "data": {
      "text/plain": "     xBi(Me1Me2)O3   xPT  Tolerance_Factor  Ionic_Displacements  \\\n0         0.200000  0.80          1.015200             0.081124   \n1         0.300000  0.70          1.009500             0.081124   \n2         0.400000  0.60          1.003600             0.099400   \n3         0.277917  0.50          1.003317             0.105500   \n4         0.600000  0.40          1.003317             0.111400   \n..             ...   ...               ...                  ...   \n127       0.350000  0.65          0.985400             0.078900   \n128       0.370000  0.63          0.983100             0.079100   \n129       0.250000  0.75          1.005700             0.077100   \n130       0.400000  0.60          0.984200             0.083900   \n131       0.200000  0.80          1.016200             0.089000   \n\n     Ferroelectric_Tc_in_Kelvin  \n0                         816.0  \n1                         840.0  \n2                         864.0  \n3                         915.0  \n4                         956.0  \n..                          ...  \n127                       728.0  \n128                       718.0  \n129                       798.0  \n130                       728.0  \n131                       898.0  \n\n[132 rows x 5 columns]",
      "text/html": "<div>\n<style scoped>\n    .dataframe tbody tr th:only-of-type {\n        vertical-align: middle;\n    }\n\n    .dataframe tbody tr th {\n        vertical-align: top;\n    }\n\n    .dataframe thead th {\n        text-align: right;\n    }\n</style>\n<table border=\"1\" class=\"dataframe\">\n  <thead>\n    <tr style=\"text-align: right;\">\n      <th></th>\n      <th>xBi(Me1Me2)O3</th>\n      <th>xPT</th>\n      <th>Tolerance_Factor</th>\n      <th>Ionic_Displacements</th>\n      <th>Ferroelectric_Tc_in_Kelvin</th>\n    </tr>\n  </thead>\n  <tbody>\n    <tr>\n      <th>0</th>\n      <td>0.200000</td>\n      <td>0.80</td>\n      <td>1.015200</td>\n      <td>0.081124</td>\n      <td>816.0</td>\n    </tr>\n    <tr>\n      <th>1</th>\n      <td>0.300000</td>\n      <td>0.70</td>\n      <td>1.009500</td>\n      <td>0.081124</td>\n      <td>840.0</td>\n    </tr>\n    <tr>\n      <th>2</th>\n      <td>0.400000</td>\n      <td>0.60</td>\n      <td>1.003600</td>\n      <td>0.099400</td>\n      <td>864.0</td>\n    </tr>\n    <tr>\n      <th>3</th>\n      <td>0.277917</td>\n      <td>0.50</td>\n      <td>1.003317</td>\n      <td>0.105500</td>\n      <td>915.0</td>\n    </tr>\n    <tr>\n      <th>4</th>\n      <td>0.600000</td>\n      <td>0.40</td>\n      <td>1.003317</td>\n      <td>0.111400</td>\n      <td>956.0</td>\n    </tr>\n    <tr>\n      <th>...</th>\n      <td>...</td>\n      <td>...</td>\n      <td>...</td>\n      <td>...</td>\n      <td>...</td>\n    </tr>\n    <tr>\n      <th>127</th>\n      <td>0.350000</td>\n      <td>0.65</td>\n      <td>0.985400</td>\n      <td>0.078900</td>\n      <td>728.0</td>\n    </tr>\n    <tr>\n      <th>128</th>\n      <td>0.370000</td>\n      <td>0.63</td>\n      <td>0.983100</td>\n      <td>0.079100</td>\n      <td>718.0</td>\n    </tr>\n    <tr>\n      <th>129</th>\n      <td>0.250000</td>\n      <td>0.75</td>\n      <td>1.005700</td>\n      <td>0.077100</td>\n      <td>798.0</td>\n    </tr>\n    <tr>\n      <th>130</th>\n      <td>0.400000</td>\n      <td>0.60</td>\n      <td>0.984200</td>\n      <td>0.083900</td>\n      <td>728.0</td>\n    </tr>\n    <tr>\n      <th>131</th>\n      <td>0.200000</td>\n      <td>0.80</td>\n      <td>1.016200</td>\n      <td>0.089000</td>\n      <td>898.0</td>\n    </tr>\n  </tbody>\n</table>\n<p>132 rows × 5 columns</p>\n</div>"
     },
     "execution_count": 27,
     "metadata": {},
     "output_type": "execute_result"
    }
   ],
   "source": [
    "X_filled_mean = mean.fit_transform(X_with_nan.copy())\n",
    "\n",
    "print(\"RMSE: \", RMSE(X.values, X_filled_mean.values, mask))\n",
    "\n",
    "X_filled_mean.columns = X.columns\n",
    "X_filled_mean"
   ],
   "metadata": {
    "collapsed": false,
    "ExecuteTime": {
     "end_time": "2024-05-08T07:49:37.128002Z",
     "start_time": "2024-05-08T07:49:37.116876Z"
    }
   },
   "id": "55169757bb062925",
   "execution_count": 27
  },
  {
   "cell_type": "code",
   "outputs": [
    {
     "data": {
      "text/plain": "['xBi(Me1Me2)O3', 'Tolerance_Factor', 'Ionic_Displacements']"
     },
     "execution_count": 28,
     "metadata": {},
     "output_type": "execute_result"
    }
   ],
   "source": [
    "missing_columns = X_with_nan.columns[X_with_nan.isnull().any()].tolist()\n",
    "missing_columns"
   ],
   "metadata": {
    "collapsed": false,
    "ExecuteTime": {
     "end_time": "2024-05-08T07:49:37.133913Z",
     "start_time": "2024-05-08T07:49:37.129105Z"
    }
   },
   "id": "dbbc8ae468fe6c44",
   "execution_count": 28
  },
  {
   "cell_type": "code",
   "outputs": [
    {
     "data": {
      "text/plain": "3      0.50\n5      0.70\n6      0.80\n8      0.00\n12     0.30\n13     0.40\n20     0.25\n29     0.10\n39     0.30\n110    0.10\n121    0.33\n125    0.27\nName: xBi(Me1Me2)O3, dtype: float64"
     },
     "execution_count": 29,
     "metadata": {},
     "output_type": "execute_result"
    }
   ],
   "source": [
    "col = missing_columns[0]\n",
    "col_mean = X[col].mean()\n",
    "col_std = X[col].std()\n",
    "# 统计在填充前缺失值在一个std距离内的缺失值\n",
    "col_missing_index = X_with_nan[X_with_nan[col].isnull()].index\n",
    "col_missing_values = X_with_nan.loc[col_missing_index, col]\n",
    "original_values = X.loc[col_missing_index, col]\n",
    "original_values"
   ],
   "metadata": {
    "collapsed": false,
    "ExecuteTime": {
     "end_time": "2024-05-08T07:49:37.141173Z",
     "start_time": "2024-05-08T07:49:37.134502Z"
    }
   },
   "id": "1d72e894614045bf",
   "execution_count": 29
  },
  {
   "cell_type": "code",
   "outputs": [
    {
     "name": "stdout",
     "output_type": "stream",
     "text": [
      "et: xBi(Me1Me2)O3 score_std: 0.04760757166504204, score_2std: 0.004280351923340627, score_3std: 0.06757595949629569\n",
      "hyper: xBi(Me1Me2)O3 score_std: 0.09244012908145444, score_2std: 0.1903665863811972, score_3std: 0.7703704775059133\n",
      "missforest: xBi(Me1Me2)O3 score_std: 0.10022557564589238, score_2std: 0.20436399564633398, score_3std: 0.580602258958801\n",
      "gain: xBi(Me1Me2)O3 score_std: 0.23413963087994896, score_2std: 0.48849518906727696, score_3std: 1.5109324679629315\n",
      "sinkhorn: xBi(Me1Me2)O3 score_std: 0.6220898010112536, score_2std: 0.8240140785694614, score_3std: 1.2612533430893689\n",
      "mean: xBi(Me1Me2)O3 score_std: 0.32480886813199217, score_2std: 1.2434071934887334, score_3std: 2.7093131643225044\n",
      "et: Tolerance_Factor score_std: 0.3716339554077903, score_2std: 0.3535247752256399, score_3std: nan\n",
      "hyper: Tolerance_Factor score_std: 0.268448609236226, score_2std: 0.5871538050286021, score_3std: nan\n",
      "missforest: Tolerance_Factor score_std: 0.33178467231704756, score_2std: 0.5547106461777325, score_3std: nan\n",
      "gain: Tolerance_Factor score_std: 0.44801699884208745, score_2std: 0.6172860764005219, score_3std: nan\n",
      "sinkhorn: Tolerance_Factor score_std: 0.7017630996314914, score_2std: 0.9937252559274669, score_3std: nan\n",
      "mean: Tolerance_Factor score_std: 0.6738914498062626, score_2std: 1.4424145243958013, score_3std: nan\n",
      "et: Ionic_Displacements score_std: 0.18702243421114423, score_2std: 1.4513177685272687, score_3std: 1.4863976871031872\n",
      "hyper: Ionic_Displacements score_std: 0.36422566339422363, score_2std: 0.3753177178886919, score_3std: 1.6523240335485556\n",
      "missforest: Ionic_Displacements score_std: 0.3849844401774625, score_2std: 0.358034675943832, score_3std: 1.6146046719916178\n",
      "gain: Ionic_Displacements score_std: 0.46416117095438303, score_2std: 1.2338395366301282, score_3std: 2.692658642585261\n",
      "sinkhorn: Ionic_Displacements score_std: 0.4645748068413707, score_2std: 0.17764153302108826, score_3std: 1.5165080159331799\n",
      "mean: Ionic_Displacements score_std: 0.5064429745909936, score_2std: 1.2134739759909083, score_3std: 3.599738128524303\n"
     ]
    },
    {
     "data": {
      "text/plain": "<Figure size 1000x600 with 3 Axes>",
      "image/png": "[encoded data removed]"
     },
     "metadata": {},
     "output_type": "display_data"
    }
   ],
   "source": [
    "from scipy.stats import skew, kurtosis\n",
    "import numpy as np\n",
    "from sklearn.metrics import root_mean_squared_error as rmse\n",
    "import matplotlib.pyplot as plt\n",
    "import seaborn as sns\n",
    "import warnings\n",
    "\n",
    "warnings.filterwarnings(\"ignore\")\n",
    "sns.set_theme(style=\"whitegrid\")\n",
    "plt.rcParams[\"font.family\"] = \"Times New Roman\"\n",
    "my_palette = sns.color_palette([\"#F35F5F\", \"#7ED9D9\", \"#9467BD\", \"#5FBDFF\", \"#FDBF6F\", \"#B3DE69\", \"#FFC0D9\"])\n",
    "\n",
    "cols = 2\n",
    "rows = len(missing_columns) // cols if len(missing_columns) % cols == 0 else len(missing_columns) // cols + 1\n",
    "fig, axs = plt.subplots(rows, cols, figsize=(5 * cols, 3 * rows), sharex=True)\n",
    "axs = axs.flatten()\n",
    "\n",
    "all_df = pd.DataFrame(columns=[\"RMSE\", \"Method\", \"Range\", \"Col\"])\n",
    "\n",
    "for col in missing_columns:\n",
    "    ax = axs[missing_columns.index(col)]\n",
    "    df = pd.DataFrame(columns=[\"RMSE\", \"Method\", \"Range\"])\n",
    "\n",
    "    col_mean = X[col].mean()\n",
    "    col_std = X[col].std()\n",
    "    # 统计在填充前缺失值在一个std距离内的缺失值\n",
    "    col_missing_index = X_with_nan[X_with_nan[col].isnull()].index\n",
    "    col_missing_values = X_with_nan.loc[col_missing_index, col]\n",
    "    original_values = X.loc[col_missing_index, col]\n",
    "    count = {\"1\": [], \"2\": [], \"3\": []}\n",
    "    for idx, val in zip(col_missing_index, original_values):\n",
    "        if abs(val - col_mean) > 2 * col_std:\n",
    "            count[\"3\"].append(idx)\n",
    "        elif abs(val - col_mean) > 1 * col_std:\n",
    "            count[\"2\"].append(idx)\n",
    "        else:\n",
    "            count[\"1\"].append(idx)\n",
    "    col_mean = abs(col_mean)\n",
    "    score_std = rmse(original_values[count[\"1\"]], X_filled_et.loc[count[\"1\"], col]) / col_std\n",
    "    score_2std = rmse(original_values[count[\"2\"]], X_filled_et.loc[count[\"2\"], col]) / col_std if len(\n",
    "        count[\"2\"]) != 0 else np.nan\n",
    "    score_3std = rmse(original_values[count[\"3\"]], X_filled_et.loc[count[\"3\"], col]) / col_std if len(\n",
    "        count[\"3\"]) != 0 else np.nan\n",
    "    print(f\"et: {col} score_std: {score_std}, score_2std: {score_2std}, score_3std: {score_3std}\")\n",
    "    df = pd.concat([df, pd.DataFrame({\"RMSE\": [score_std, score_2std, score_3std],\n",
    "                                      \"Method\": [\"MatImpute\", \"MatImpute\", \"MatImpute\"],\n",
    "                                      \"Range\": [\"≤1σ\", \"1~2σ\", \">2σ\"]})], ignore_index=True)\n",
    "\n",
    "    score_std = rmse(original_values[count[\"1\"]], X_filled_hyper.loc[count[\"1\"], col]) / col_std\n",
    "    score_2std = rmse(original_values[count[\"2\"]], X_filled_hyper.loc[count[\"2\"], col]) / col_std if len(\n",
    "        count[\"2\"]) != 0 else np.nan\n",
    "    score_3std = rmse(original_values[count[\"3\"]], X_filled_hyper.loc[count[\"3\"], col]) / col_std if len(\n",
    "        count[\"3\"]) != 0 else np.nan\n",
    "    print(f\"hyper: {col} score_std: {score_std}, score_2std: {score_2std}, score_3std: {score_3std}\")\n",
    "    df = pd.concat([df, pd.DataFrame({\"RMSE\": [score_std, score_2std, score_3std],\n",
    "                                      \"Method\": [\"HyperImpute\", \"HyperImpute\", \"HyperImpute\"],\n",
    "                                      \"Range\": [\"≤1σ\", \"1~2σ\", \">2σ\"]})], ignore_index=True)\n",
    "\n",
    "    score_std = rmse(original_values[count[\"1\"]], X_filled_missforest.loc[count[\"1\"], col]) / col_std\n",
    "    score_2std = rmse(original_values[count[\"2\"]], X_filled_missforest.loc[count[\"2\"], col]) / col_std if len(\n",
    "        count[\"2\"]) != 0 else np.nan\n",
    "    score_3std = rmse(original_values[count[\"3\"]], X_filled_missforest.loc[count[\"3\"], col]) / col_std if len(\n",
    "        count[\"3\"]) != 0 else np.nan\n",
    "    print(f\"missforest: {col} score_std: {score_std}, score_2std: {score_2std}, score_3std: {score_3std}\")\n",
    "    df = pd.concat([df, pd.DataFrame({\"RMSE\": [score_std, score_2std, score_3std],\n",
    "                                      \"Method\": [\"MissForest\", \"MissForest\", \"MissForest\"],\n",
    "                                      \"Range\": [\"≤1σ\", \"1~2σ\", \">2σ\"]})], ignore_index=True)\n",
    "\n",
    "    score_std = rmse(original_values[count[\"1\"]], X_filled_gain.loc[count[\"1\"], col]) / col_std\n",
    "    score_2std = rmse(original_values[count[\"2\"]], X_filled_gain.loc[count[\"2\"], col]) / col_std if len(\n",
    "        count[\"2\"]) != 0 else np.nan\n",
    "    score_3std = rmse(original_values[count[\"3\"]], X_filled_gain.loc[count[\"3\"], col]) / col_std if len(\n",
    "        count[\"3\"]) != 0 else np.nan\n",
    "    print(f\"gain: {col} score_std: {score_std}, score_2std: {score_2std}, score_3std: {score_3std}\")\n",
    "    df = pd.concat([df, pd.DataFrame({\"RMSE\": [score_std, score_2std, score_3std],\n",
    "                                      \"Method\": [\"Gain\", \"Gain\", \"Gain\"],\n",
    "                                      \"Range\": [\"≤1σ\", \"1~2σ\", \">2σ\"]})], ignore_index=True)\n",
    "\n",
    "    score_std = rmse(original_values[count[\"1\"]], X_filled_sinkhorn.loc[count[\"1\"], col]) / col_std\n",
    "    score_2std = rmse(original_values[count[\"2\"]], X_filled_sinkhorn.loc[count[\"2\"], col]) / col_std if len(\n",
    "        count[\"2\"]) != 0 else np.nan\n",
    "    score_3std = rmse(original_values[count[\"3\"]], X_filled_sinkhorn.loc[count[\"3\"], col]) / col_std if len(\n",
    "        count[\"3\"]) != 0 else np.nan\n",
    "    print(f\"sinkhorn: {col} score_std: {score_std}, score_2std: {score_2std}, score_3std: {score_3std}\")\n",
    "    df = pd.concat([df, pd.DataFrame({\"RMSE\": [score_std, score_2std, score_3std],\n",
    "                                      \"Method\": [\"Sinkhorn\", \"Sinkhorn\", \"Sinkhorn\"],\n",
    "                                      \"Range\": [\"≤1σ\", \"1~2σ\", \">2σ\"]})], ignore_index=True)\n",
    "\n",
    "    # mean\n",
    "    score_std = rmse(original_values[count[\"1\"]], X_filled_mean.loc[count[\"1\"], col]) / col_std\n",
    "    score_2std = rmse(original_values[count[\"2\"]], X_filled_mean.loc[count[\"2\"], col]) / col_std if len(\n",
    "        count[\"2\"]) != 0 else np.nan\n",
    "    score_3std = rmse(original_values[count[\"3\"]], X_filled_mean.loc[count[\"3\"], col]) / col_std if len(\n",
    "        count[\"3\"]) != 0 else np.nan\n",
    "    print(f\"mean: {col} score_std: {score_std}, score_2std: {score_2std}, score_3std: {score_3std}\")\n",
    "    df = pd.concat([df, pd.DataFrame({\"RMSE\": [score_std, score_2std, score_3std],\n",
    "                                      \"Method\": [\"Mean\", \"Mean\", \"Mean\"],\n",
    "                                      \"Range\": [\"≤1σ\", \"1~2σ\", \">2σ\"]})], ignore_index=True)\n",
    "    df[\"Col\"] = [col] * df.shape[0]\n",
    "    all_df = pd.concat([all_df, df], ignore_index=True)\n",
    "\n",
    "    df.drop(columns=[\"Col\"], inplace=True)\n",
    "\n",
    "    sns.barplot(x=\"Range\", y=\"RMSE\", hue=\"Method\", data=df, ax=ax, palette=my_palette)\n",
    "    # del legend\n",
    "    ax.get_legend().remove()\n",
    "    # del y label\n",
    "    ax.set_ylabel(\"\")\n",
    "    ax.xaxis.set_tick_params(labelsize=24)\n",
    "    ax.yaxis.set_tick_params(labelsize=24)\n",
    "    # set x label size\n",
    "    ax.set_xlabel(\"Range\", fontsize=24)\n",
    "    # 把标题添加到图的框内\n",
    "    ax.text(0.5, 0.9, col, horizontalalignment='center', verticalalignment='center', transform=ax.transAxes,\n",
    "            fontsize=24)\n",
    "\n",
    "# get legend\n",
    "handles, labels = ax.get_legend_handles_labels()\n",
    "\n",
    "# del empty subplot\n",
    "for i in range(len(missing_columns), len(axs)):\n",
    "    fig.delaxes(axs[i])\n",
    "\n",
    "plt.tight_layout()\n",
    "fig.text(0.02, 0.5, 'RMSE / σ', va='center', rotation='vertical', fontsize=24)\n",
    "fig.subplots_adjust(hspace=0.1, wspace=0.12, left=0.1, bottom=0.1)\n",
    "# plt.savefig(\"std-rmse.png\", dpi=300)\n",
    "all_df.to_excel(\"std-rmse-bala-reg.xlsx\", index=False)"
   ],
   "metadata": {
    "collapsed": false,
    "ExecuteTime": {
     "end_time": "2024-05-08T07:49:52.734483Z",
     "start_time": "2024-05-08T07:49:51.811775Z"
    }
   },
   "id": "812e7eceeb90a9db",
   "execution_count": 30
  },
  {
   "cell_type": "code",
   "outputs": [],
   "source": [],
   "metadata": {
    "collapsed": false,
    "ExecuteTime": {
     "start_time": "2024-05-06T07:20:35.781427Z"
    }
   },
   "id": "9425c43870cf75b6",
   "execution_count": null
  }
 ],
 "metadata": {
  "kernelspec": {
   "display_name": "Python 3",
   "language": "python",
   "name": "python3"
  },
  "language_info": {
   "codemirror_mode": {
    "name": "ipython",
    "version": 2
   },
   "file_extension": ".py",
   "mimetype": "text/x-python",
   "name": "python",
   "nbconvert_exporter": "python",
   "pygments_lexer": "ipython2",
   "version": "2.7.6"
  }
 },
 "nbformat": 4,
 "nbformat_minor": 5
}
