{
 "cells": [
  {
   "cell_type": "code",
   "execution_count": 1,
   "id": "initial_id",
   "metadata": {
    "collapsed": true,
    "ExecuteTime": {
     "end_time": "2024-05-08T08:52:42.889331Z",
     "start_time": "2024-05-08T08:52:37.749472Z"
    }
   },
   "outputs": [
    {
     "name": "stderr",
     "output_type": "stream",
     "text": [
      "D:\\software\\miniconda\\Lib\\site-packages\\pydantic\\_internal\\_fields.py:149: UserWarning: Field \"model_name\" has conflict with protected namespace \"model_\".\n",
      "\n",
      "You may be able to resolve this warning by setting `model_config['protected_namespaces'] = ()`.\n",
      "  warnings.warn(\n"
     ]
    }
   ],
   "source": [
    "from hyperimpute.plugins.imputers import Imputers, ImputerPlugin\n",
    "from Impute import fill_with_et\n",
    "from hyperimpute.plugins.utils.metrics import RMSE\n",
    "\n",
    "imputers = Imputers()\n",
    "\n",
    "\n",
    "class EtImputer(ImputerPlugin):\n",
    "    def __init__(self, *args, **kwargs):\n",
    "        super().__init__(*args, **kwargs)\n",
    "        self._model = fill_with_et\n",
    "\n",
    "    @staticmethod\n",
    "    def name():\n",
    "        return \"et\"\n",
    "\n",
    "    @staticmethod\n",
    "    def hyperparameter_space():\n",
    "        return []\n",
    "\n",
    "    def _fit(self, *args, **kwargs):\n",
    "        return self\n",
    "\n",
    "    def _transform(self, df):\n",
    "        # 按照缺失值的比例进行排序\n",
    "        miss_rate = df.isnull().sum() / df.shape[0]\n",
    "        cols = miss_rate.sort_values().index.tolist()\n",
    "        cols = [col for col in cols if miss_rate[col] > 0]\n",
    "        for col in cols:\n",
    "            df_col_filled = self._model(df, col)\n",
    "            df[col] = df_col_filled[col]\n",
    "        return df\n",
    "\n",
    "\n",
    "imputers.add(\"et\", EtImputer)\n",
    "\n",
    "hyper = imputers.get(\"hyperimpute\", n_inner_iter=1)\n",
    "et = imputers.get(\"et\")\n",
    "missforest = imputers.get(\"missforest\")\n",
    "gain = imputers.get(\"gain\")\n",
    "sinkhorn = imputers.get(\"sinkhorn\")\n",
    "mean = imputers.get(\"mean\")"
   ]
  },
  {
   "cell_type": "code",
   "outputs": [
    {
     "data": {
      "text/plain": "          RI     Na    Mg    Al     Si     K    Ca    Ba   Fe  Type of glass\n0    1.52101  13.64  4.49  1.10  71.78  0.06  8.75  0.00  0.0              1\n1    1.51761  13.89  3.60  1.36  72.73  0.48  7.83  0.00  0.0              1\n2    1.51618  13.53  3.55  1.54  72.99  0.39  7.78  0.00  0.0              1\n3    1.51766  13.21  3.69  1.29  72.61  0.57  8.22  0.00  0.0              1\n4    1.51742  13.27  3.62  1.24  73.08  0.55  8.07  0.00  0.0              1\n..       ...    ...   ...   ...    ...   ...   ...   ...  ...            ...\n209  1.51623  14.14  0.00  2.88  72.61  0.08  9.18  1.06  0.0              7\n210  1.51685  14.92  0.00  1.99  73.06  0.00  8.40  1.59  0.0              7\n211  1.52065  14.36  0.00  2.02  73.42  0.00  8.44  1.64  0.0              7\n212  1.51651  14.38  0.00  1.94  73.61  0.00  8.48  1.57  0.0              7\n213  1.51711  14.23  0.00  2.08  73.36  0.00  8.62  1.67  0.0              7\n\n[214 rows x 10 columns]",
      "text/html": "<div>\n<style scoped>\n    .dataframe tbody tr th:only-of-type {\n        vertical-align: middle;\n    }\n\n    .dataframe tbody tr th {\n        vertical-align: top;\n    }\n\n    .dataframe thead th {\n        text-align: right;\n    }\n</style>\n<table border=\"1\" class=\"dataframe\">\n  <thead>\n    <tr style=\"text-align: right;\">\n      <th></th>\n      <th>RI</th>\n      <th>Na</th>\n      <th>Mg</th>\n      <th>Al</th>\n      <th>Si</th>\n      <th>K</th>\n      <th>Ca</th>\n      <th>Ba</th>\n      <th>Fe</th>\n      <th>Type of glass</th>\n    </tr>\n  </thead>\n  <tbody>\n    <tr>\n      <th>0</th>\n      <td>1.52101</td>\n      <td>13.64</td>\n      <td>4.49</td>\n      <td>1.10</td>\n      <td>71.78</td>\n      <td>0.06</td>\n      <td>8.75</td>\n      <td>0.00</td>\n      <td>0.0</td>\n      <td>1</td>\n    </tr>\n    <tr>\n      <th>1</th>\n      <td>1.51761</td>\n      <td>13.89</td>\n      <td>3.60</td>\n      <td>1.36</td>\n      <td>72.73</td>\n      <td>0.48</td>\n      <td>7.83</td>\n      <td>0.00</td>\n      <td>0.0</td>\n      <td>1</td>\n    </tr>\n    <tr>\n      <th>2</th>\n      <td>1.51618</td>\n      <td>13.53</td>\n      <td>3.55</td>\n      <td>1.54</td>\n      <td>72.99</td>\n      <td>0.39</td>\n      <td>7.78</td>\n      <td>0.00</td>\n      <td>0.0</td>\n      <td>1</td>\n    </tr>\n    <tr>\n      <th>3</th>\n      <td>1.51766</td>\n      <td>13.21</td>\n      <td>3.69</td>\n      <td>1.29</td>\n      <td>72.61</td>\n      <td>0.57</td>\n      <td>8.22</td>\n      <td>0.00</td>\n      <td>0.0</td>\n      <td>1</td>\n    </tr>\n    <tr>\n      <th>4</th>\n      <td>1.51742</td>\n      <td>13.27</td>\n      <td>3.62</td>\n      <td>1.24</td>\n      <td>73.08</td>\n      <td>0.55</td>\n      <td>8.07</td>\n      <td>0.00</td>\n      <td>0.0</td>\n      <td>1</td>\n    </tr>\n    <tr>\n      <th>...</th>\n      <td>...</td>\n      <td>...</td>\n      <td>...</td>\n      <td>...</td>\n      <td>...</td>\n      <td>...</td>\n      <td>...</td>\n      <td>...</td>\n      <td>...</td>\n      <td>...</td>\n    </tr>\n    <tr>\n      <th>209</th>\n      <td>1.51623</td>\n      <td>14.14</td>\n      <td>0.00</td>\n      <td>2.88</td>\n      <td>72.61</td>\n      <td>0.08</td>\n      <td>9.18</td>\n      <td>1.06</td>\n      <td>0.0</td>\n      <td>7</td>\n    </tr>\n    <tr>\n      <th>210</th>\n      <td>1.51685</td>\n      <td>14.92</td>\n      <td>0.00</td>\n      <td>1.99</td>\n      <td>73.06</td>\n      <td>0.00</td>\n      <td>8.40</td>\n      <td>1.59</td>\n      <td>0.0</td>\n      <td>7</td>\n    </tr>\n    <tr>\n      <th>211</th>\n      <td>1.52065</td>\n      <td>14.36</td>\n      <td>0.00</td>\n      <td>2.02</td>\n      <td>73.42</td>\n      <td>0.00</td>\n      <td>8.44</td>\n      <td>1.64</td>\n      <td>0.0</td>\n      <td>7</td>\n    </tr>\n    <tr>\n      <th>212</th>\n      <td>1.51651</td>\n      <td>14.38</td>\n      <td>0.00</td>\n      <td>1.94</td>\n      <td>73.61</td>\n      <td>0.00</td>\n      <td>8.48</td>\n      <td>1.57</td>\n      <td>0.0</td>\n      <td>7</td>\n    </tr>\n    <tr>\n      <th>213</th>\n      <td>1.51711</td>\n      <td>14.23</td>\n      <td>0.00</td>\n      <td>2.08</td>\n      <td>73.36</td>\n      <td>0.00</td>\n      <td>8.62</td>\n      <td>1.67</td>\n      <td>0.0</td>\n      <td>7</td>\n    </tr>\n  </tbody>\n</table>\n<p>214 rows × 10 columns</p>\n</div>"
     },
     "execution_count": 2,
     "metadata": {},
     "output_type": "execute_result"
    }
   ],
   "source": [
    "import pandas as pd\n",
    "\n",
    "df = pd.read_csv(\"./dataset/glass.csv\")\n",
    "df"
   ],
   "metadata": {
    "collapsed": false,
    "ExecuteTime": {
     "end_time": "2024-05-08T08:52:45.411167Z",
     "start_time": "2024-05-08T08:52:45.377502Z"
    }
   },
   "id": "9ae8b1b7bd326b91",
   "execution_count": 2
  },
  {
   "cell_type": "code",
   "outputs": [
    {
     "data": {
      "text/plain": "          RI     Na    Mg    Al     Si     K    Ca    Ba   Fe  Type of glass\n0    1.52101  13.64  4.49  1.10  71.78  0.06  8.75  0.00  0.0              1\n1    1.51761  13.89  3.60  1.36  72.73  0.48  7.83  0.00  0.0              1\n2    1.51618  13.53  3.55  1.54  72.99  0.39  7.78  0.00  0.0              1\n3    1.51766  13.21  3.69  1.29  72.61  0.57  8.22  0.00  0.0              1\n4    1.51742  13.27  3.62  1.24  73.08  0.55  8.07  0.00  0.0              1\n..       ...    ...   ...   ...    ...   ...   ...   ...  ...            ...\n209  1.51623  14.14  0.00  2.88  72.61  0.08  9.18  1.06  0.0              7\n210  1.51685  14.92  0.00  1.99  73.06  0.00  8.40  1.59  0.0              7\n211  1.52065  14.36  0.00  2.02  73.42  0.00  8.44  1.64  0.0              7\n212  1.51651  14.38  0.00  1.94  73.61  0.00  8.48  1.57  0.0              7\n213  1.51711  14.23  0.00  2.08  73.36  0.00  8.62  1.67  0.0              7\n\n[214 rows x 10 columns]",
      "text/html": "<div>\n<style scoped>\n    .dataframe tbody tr th:only-of-type {\n        vertical-align: middle;\n    }\n\n    .dataframe tbody tr th {\n        vertical-align: top;\n    }\n\n    .dataframe thead th {\n        text-align: right;\n    }\n</style>\n<table border=\"1\" class=\"dataframe\">\n  <thead>\n    <tr style=\"text-align: right;\">\n      <th></th>\n      <th>RI</th>\n      <th>Na</th>\n      <th>Mg</th>\n      <th>Al</th>\n      <th>Si</th>\n      <th>K</th>\n      <th>Ca</th>\n      <th>Ba</th>\n      <th>Fe</th>\n      <th>Type of glass</th>\n    </tr>\n  </thead>\n  <tbody>\n    <tr>\n      <th>0</th>\n      <td>1.52101</td>\n      <td>13.64</td>\n      <td>4.49</td>\n      <td>1.10</td>\n      <td>71.78</td>\n      <td>0.06</td>\n      <td>8.75</td>\n      <td>0.00</td>\n      <td>0.0</td>\n      <td>1</td>\n    </tr>\n    <tr>\n      <th>1</th>\n      <td>1.51761</td>\n      <td>13.89</td>\n      <td>3.60</td>\n      <td>1.36</td>\n      <td>72.73</td>\n      <td>0.48</td>\n      <td>7.83</td>\n      <td>0.00</td>\n      <td>0.0</td>\n      <td>1</td>\n    </tr>\n    <tr>\n      <th>2</th>\n      <td>1.51618</td>\n      <td>13.53</td>\n      <td>3.55</td>\n      <td>1.54</td>\n      <td>72.99</td>\n      <td>0.39</td>\n      <td>7.78</td>\n      <td>0.00</td>\n      <td>0.0</td>\n      <td>1</td>\n    </tr>\n    <tr>\n      <th>3</th>\n      <td>1.51766</td>\n      <td>13.21</td>\n      <td>3.69</td>\n      <td>1.29</td>\n      <td>72.61</td>\n      <td>0.57</td>\n      <td>8.22</td>\n      <td>0.00</td>\n      <td>0.0</td>\n      <td>1</td>\n    </tr>\n    <tr>\n      <th>4</th>\n      <td>1.51742</td>\n      <td>13.27</td>\n      <td>3.62</td>\n      <td>1.24</td>\n      <td>73.08</td>\n      <td>0.55</td>\n      <td>8.07</td>\n      <td>0.00</td>\n      <td>0.0</td>\n      <td>1</td>\n    </tr>\n    <tr>\n      <th>...</th>\n      <td>...</td>\n      <td>...</td>\n      <td>...</td>\n      <td>...</td>\n      <td>...</td>\n      <td>...</td>\n      <td>...</td>\n      <td>...</td>\n      <td>...</td>\n      <td>...</td>\n    </tr>\n    <tr>\n      <th>209</th>\n      <td>1.51623</td>\n      <td>14.14</td>\n      <td>0.00</td>\n      <td>2.88</td>\n      <td>72.61</td>\n      <td>0.08</td>\n      <td>9.18</td>\n      <td>1.06</td>\n      <td>0.0</td>\n      <td>7</td>\n    </tr>\n    <tr>\n      <th>210</th>\n      <td>1.51685</td>\n      <td>14.92</td>\n      <td>0.00</td>\n      <td>1.99</td>\n      <td>73.06</td>\n      <td>0.00</td>\n      <td>8.40</td>\n      <td>1.59</td>\n      <td>0.0</td>\n      <td>7</td>\n    </tr>\n    <tr>\n      <th>211</th>\n      <td>1.52065</td>\n      <td>14.36</td>\n      <td>0.00</td>\n      <td>2.02</td>\n      <td>73.42</td>\n      <td>0.00</td>\n      <td>8.44</td>\n      <td>1.64</td>\n      <td>0.0</td>\n      <td>7</td>\n    </tr>\n    <tr>\n      <th>212</th>\n      <td>1.51651</td>\n      <td>14.38</td>\n      <td>0.00</td>\n      <td>1.94</td>\n      <td>73.61</td>\n      <td>0.00</td>\n      <td>8.48</td>\n      <td>1.57</td>\n      <td>0.0</td>\n      <td>7</td>\n    </tr>\n    <tr>\n      <th>213</th>\n      <td>1.51711</td>\n      <td>14.23</td>\n      <td>0.00</td>\n      <td>2.08</td>\n      <td>73.36</td>\n      <td>0.00</td>\n      <td>8.62</td>\n      <td>1.67</td>\n      <td>0.0</td>\n      <td>7</td>\n    </tr>\n  </tbody>\n</table>\n<p>214 rows × 10 columns</p>\n</div>"
     },
     "execution_count": 3,
     "metadata": {},
     "output_type": "execute_result"
    }
   ],
   "source": [
    "df = df.select_dtypes(include=[\"float64\", \"int64\"])\n",
    "df"
   ],
   "metadata": {
    "collapsed": false,
    "ExecuteTime": {
     "end_time": "2024-05-08T08:52:52.816237Z",
     "start_time": "2024-05-08T08:52:52.803265Z"
    }
   },
   "id": "4378f2505ad504",
   "execution_count": 3
  },
  {
   "cell_type": "code",
   "outputs": [
    {
     "data": {
      "text/plain": "          RI     Na    Mg    Al     Si     K    Ca    Ba   Fe  Type of glass\n0    1.52101  13.64  4.49  1.10  71.78  0.06  8.75  0.00  0.0            1.0\n1    1.51761  13.89  3.60  1.36  72.73  0.48  7.83  0.00  0.0            1.0\n2    1.51618  13.53  3.55  1.54    NaN  0.39  7.78  0.00  0.0            1.0\n3    1.51766  13.21  3.69  1.29  72.61  0.57  8.22  0.00  0.0            1.0\n4    1.51742  13.27  3.62  1.24  73.08  0.55  8.07  0.00  0.0            1.0\n..       ...    ...   ...   ...    ...   ...   ...   ...  ...            ...\n209  1.51623  14.14  0.00  2.88  72.61  0.08  9.18  1.06  0.0            7.0\n210  1.51685  14.92  0.00   NaN  73.06  0.00  8.40  1.59  0.0            7.0\n211  1.52065  14.36   NaN  2.02    NaN  0.00  8.44  1.64  0.0            7.0\n212  1.51651  14.38  0.00  1.94  73.61  0.00  8.48  1.57  0.0            7.0\n213  1.51711  14.23   NaN  2.08    NaN  0.00  8.62  1.67  0.0            7.0\n\n[214 rows x 10 columns]",
      "text/html": "<div>\n<style scoped>\n    .dataframe tbody tr th:only-of-type {\n        vertical-align: middle;\n    }\n\n    .dataframe tbody tr th {\n        vertical-align: top;\n    }\n\n    .dataframe thead th {\n        text-align: right;\n    }\n</style>\n<table border=\"1\" class=\"dataframe\">\n  <thead>\n    <tr style=\"text-align: right;\">\n      <th></th>\n      <th>RI</th>\n      <th>Na</th>\n      <th>Mg</th>\n      <th>Al</th>\n      <th>Si</th>\n      <th>K</th>\n      <th>Ca</th>\n      <th>Ba</th>\n      <th>Fe</th>\n      <th>Type of glass</th>\n    </tr>\n  </thead>\n  <tbody>\n    <tr>\n      <th>0</th>\n      <td>1.52101</td>\n      <td>13.64</td>\n      <td>4.49</td>\n      <td>1.10</td>\n      <td>71.78</td>\n      <td>0.06</td>\n      <td>8.75</td>\n      <td>0.00</td>\n      <td>0.0</td>\n      <td>1.0</td>\n    </tr>\n    <tr>\n      <th>1</th>\n      <td>1.51761</td>\n      <td>13.89</td>\n      <td>3.60</td>\n      <td>1.36</td>\n      <td>72.73</td>\n      <td>0.48</td>\n      <td>7.83</td>\n      <td>0.00</td>\n      <td>0.0</td>\n      <td>1.0</td>\n    </tr>\n    <tr>\n      <th>2</th>\n      <td>1.51618</td>\n      <td>13.53</td>\n      <td>3.55</td>\n      <td>1.54</td>\n      <td>NaN</td>\n      <td>0.39</td>\n      <td>7.78</td>\n      <td>0.00</td>\n      <td>0.0</td>\n      <td>1.0</td>\n    </tr>\n    <tr>\n      <th>3</th>\n      <td>1.51766</td>\n      <td>13.21</td>\n      <td>3.69</td>\n      <td>1.29</td>\n      <td>72.61</td>\n      <td>0.57</td>\n      <td>8.22</td>\n      <td>0.00</td>\n      <td>0.0</td>\n      <td>1.0</td>\n    </tr>\n    <tr>\n      <th>4</th>\n      <td>1.51742</td>\n      <td>13.27</td>\n      <td>3.62</td>\n      <td>1.24</td>\n      <td>73.08</td>\n      <td>0.55</td>\n      <td>8.07</td>\n      <td>0.00</td>\n      <td>0.0</td>\n      <td>1.0</td>\n    </tr>\n    <tr>\n      <th>...</th>\n      <td>...</td>\n      <td>...</td>\n      <td>...</td>\n      <td>...</td>\n      <td>...</td>\n      <td>...</td>\n      <td>...</td>\n      <td>...</td>\n      <td>...</td>\n      <td>...</td>\n    </tr>\n    <tr>\n      <th>209</th>\n      <td>1.51623</td>\n      <td>14.14</td>\n      <td>0.00</td>\n      <td>2.88</td>\n      <td>72.61</td>\n      <td>0.08</td>\n      <td>9.18</td>\n      <td>1.06</td>\n      <td>0.0</td>\n      <td>7.0</td>\n    </tr>\n    <tr>\n      <th>210</th>\n      <td>1.51685</td>\n      <td>14.92</td>\n      <td>0.00</td>\n      <td>NaN</td>\n      <td>73.06</td>\n      <td>0.00</td>\n      <td>8.40</td>\n      <td>1.59</td>\n      <td>0.0</td>\n      <td>7.0</td>\n    </tr>\n    <tr>\n      <th>211</th>\n      <td>1.52065</td>\n      <td>14.36</td>\n      <td>NaN</td>\n      <td>2.02</td>\n      <td>NaN</td>\n      <td>0.00</td>\n      <td>8.44</td>\n      <td>1.64</td>\n      <td>0.0</td>\n      <td>7.0</td>\n    </tr>\n    <tr>\n      <th>212</th>\n      <td>1.51651</td>\n      <td>14.38</td>\n      <td>0.00</td>\n      <td>1.94</td>\n      <td>73.61</td>\n      <td>0.00</td>\n      <td>8.48</td>\n      <td>1.57</td>\n      <td>0.0</td>\n      <td>7.0</td>\n    </tr>\n    <tr>\n      <th>213</th>\n      <td>1.51711</td>\n      <td>14.23</td>\n      <td>NaN</td>\n      <td>2.08</td>\n      <td>NaN</td>\n      <td>0.00</td>\n      <td>8.62</td>\n      <td>1.67</td>\n      <td>0.0</td>\n      <td>7.0</td>\n    </tr>\n  </tbody>\n</table>\n<p>214 rows × 10 columns</p>\n</div>"
     },
     "execution_count": 4,
     "metadata": {},
     "output_type": "execute_result"
    }
   ],
   "source": [
    "from hyperimpute.plugins.utils.simulate import simulate_nan\n",
    "import numpy as np\n",
    "\n",
    "np.random.seed(42)\n",
    "X = df\n",
    "# reindex\n",
    "cols = X.columns.tolist()\n",
    "X = np.array(X)\n",
    "\n",
    "sim_df = simulate_nan(X, 0.1, mecha=\"MAR\")\n",
    "X = pd.DataFrame(X, columns=cols)\n",
    "X_with_nan = sim_df[\"X_incomp\"]\n",
    "mask = sim_df[\"mask\"]\n",
    "X_with_nan = pd.DataFrame(X_with_nan, columns=cols)\n",
    "X_with_nan"
   ],
   "metadata": {
    "collapsed": false,
    "ExecuteTime": {
     "end_time": "2024-05-08T08:53:01.617481Z",
     "start_time": "2024-05-08T08:53:01.598425Z"
    }
   },
   "id": "c03283590c2e9871",
   "execution_count": 4
  },
  {
   "cell_type": "code",
   "outputs": [
    {
     "name": "stdout",
     "output_type": "stream",
     "text": [
      "RMSE:  0.9938747646842148\n"
     ]
    },
    {
     "data": {
      "text/plain": "          RI     Na      Mg      Al       Si     K    Ca    Ba   Fe  \\\n0    1.52101  13.64  4.4900  1.1000  71.7800  0.06  8.75  0.00  0.0   \n1    1.51761  13.89  3.6000  1.3600  72.7300  0.48  7.83  0.00  0.0   \n2    1.51618  13.53  3.5500  1.5400  72.6795  0.39  7.78  0.00  0.0   \n3    1.51766  13.21  3.6900  1.2900  72.6100  0.57  8.22  0.00  0.0   \n4    1.51742  13.27  3.6200  1.2400  73.0800  0.55  8.07  0.00  0.0   \n..       ...    ...     ...     ...      ...   ...   ...   ...  ...   \n209  1.51623  14.14  0.0000  2.8800  72.6100  0.08  9.18  1.06  0.0   \n210  1.51685  14.92  0.0000  1.9198  73.0600  0.00  8.40  1.59  0.0   \n211  1.52065  14.36  1.0924  2.0200  72.5233  0.00  8.44  1.64  0.0   \n212  1.51651  14.38  0.0000  1.9400  73.6100  0.00  8.48  1.57  0.0   \n213  1.51711  14.23  0.1138  2.0800  73.0334  0.00  8.62  1.67  0.0   \n\n     Type of glass  \n0              1.0  \n1              1.0  \n2              1.0  \n3              1.0  \n4              1.0  \n..             ...  \n209            7.0  \n210            7.0  \n211            7.0  \n212            7.0  \n213            7.0  \n\n[214 rows x 10 columns]",
      "text/html": "<div>\n<style scoped>\n    .dataframe tbody tr th:only-of-type {\n        vertical-align: middle;\n    }\n\n    .dataframe tbody tr th {\n        vertical-align: top;\n    }\n\n    .dataframe thead th {\n        text-align: right;\n    }\n</style>\n<table border=\"1\" class=\"dataframe\">\n  <thead>\n    <tr style=\"text-align: right;\">\n      <th></th>\n      <th>RI</th>\n      <th>Na</th>\n      <th>Mg</th>\n      <th>Al</th>\n      <th>Si</th>\n      <th>K</th>\n      <th>Ca</th>\n      <th>Ba</th>\n      <th>Fe</th>\n      <th>Type of glass</th>\n    </tr>\n  </thead>\n  <tbody>\n    <tr>\n      <th>0</th>\n      <td>1.52101</td>\n      <td>13.64</td>\n      <td>4.4900</td>\n      <td>1.1000</td>\n      <td>71.7800</td>\n      <td>0.06</td>\n      <td>8.75</td>\n      <td>0.00</td>\n      <td>0.0</td>\n      <td>1.0</td>\n    </tr>\n    <tr>\n      <th>1</th>\n      <td>1.51761</td>\n      <td>13.89</td>\n      <td>3.6000</td>\n      <td>1.3600</td>\n      <td>72.7300</td>\n      <td>0.48</td>\n      <td>7.83</td>\n      <td>0.00</td>\n      <td>0.0</td>\n      <td>1.0</td>\n    </tr>\n    <tr>\n      <th>2</th>\n      <td>1.51618</td>\n      <td>13.53</td>\n      <td>3.5500</td>\n      <td>1.5400</td>\n      <td>72.6795</td>\n      <td>0.39</td>\n      <td>7.78</td>\n      <td>0.00</td>\n      <td>0.0</td>\n      <td>1.0</td>\n    </tr>\n    <tr>\n      <th>3</th>\n      <td>1.51766</td>\n      <td>13.21</td>\n      <td>3.6900</td>\n      <td>1.2900</td>\n      <td>72.6100</td>\n      <td>0.57</td>\n      <td>8.22</td>\n      <td>0.00</td>\n      <td>0.0</td>\n      <td>1.0</td>\n    </tr>\n    <tr>\n      <th>4</th>\n      <td>1.51742</td>\n      <td>13.27</td>\n      <td>3.6200</td>\n      <td>1.2400</td>\n      <td>73.0800</td>\n      <td>0.55</td>\n      <td>8.07</td>\n      <td>0.00</td>\n      <td>0.0</td>\n      <td>1.0</td>\n    </tr>\n    <tr>\n      <th>...</th>\n      <td>...</td>\n      <td>...</td>\n      <td>...</td>\n      <td>...</td>\n      <td>...</td>\n      <td>...</td>\n      <td>...</td>\n      <td>...</td>\n      <td>...</td>\n      <td>...</td>\n    </tr>\n    <tr>\n      <th>209</th>\n      <td>1.51623</td>\n      <td>14.14</td>\n      <td>0.0000</td>\n      <td>2.8800</td>\n      <td>72.6100</td>\n      <td>0.08</td>\n      <td>9.18</td>\n      <td>1.06</td>\n      <td>0.0</td>\n      <td>7.0</td>\n    </tr>\n    <tr>\n      <th>210</th>\n      <td>1.51685</td>\n      <td>14.92</td>\n      <td>0.0000</td>\n      <td>1.9198</td>\n      <td>73.0600</td>\n      <td>0.00</td>\n      <td>8.40</td>\n      <td>1.59</td>\n      <td>0.0</td>\n      <td>7.0</td>\n    </tr>\n    <tr>\n      <th>211</th>\n      <td>1.52065</td>\n      <td>14.36</td>\n      <td>1.0924</td>\n      <td>2.0200</td>\n      <td>72.5233</td>\n      <td>0.00</td>\n      <td>8.44</td>\n      <td>1.64</td>\n      <td>0.0</td>\n      <td>7.0</td>\n    </tr>\n    <tr>\n      <th>212</th>\n      <td>1.51651</td>\n      <td>14.38</td>\n      <td>0.0000</td>\n      <td>1.9400</td>\n      <td>73.6100</td>\n      <td>0.00</td>\n      <td>8.48</td>\n      <td>1.57</td>\n      <td>0.0</td>\n      <td>7.0</td>\n    </tr>\n    <tr>\n      <th>213</th>\n      <td>1.51711</td>\n      <td>14.23</td>\n      <td>0.1138</td>\n      <td>2.0800</td>\n      <td>73.0334</td>\n      <td>0.00</td>\n      <td>8.62</td>\n      <td>1.67</td>\n      <td>0.0</td>\n      <td>7.0</td>\n    </tr>\n  </tbody>\n</table>\n<p>214 rows × 10 columns</p>\n</div>"
     },
     "execution_count": 5,
     "metadata": {},
     "output_type": "execute_result"
    }
   ],
   "source": [
    "X_filled_et = et.fit_transform(X_with_nan.copy())\n",
    "print(\"RMSE: \", RMSE(X.values, X_filled_et.values, mask))\n",
    "\n",
    "X_filled_et"
   ],
   "metadata": {
    "collapsed": false,
    "ExecuteTime": {
     "end_time": "2024-05-08T08:53:03.967266Z",
     "start_time": "2024-05-08T08:53:03.595387Z"
    }
   },
   "id": "dcfc425b5e03c12f",
   "execution_count": 5
  },
  {
   "cell_type": "code",
   "outputs": [
    {
     "name": "stdout",
     "output_type": "stream",
     "text": [
      "RMSE:  1.1564372678676398\n"
     ]
    },
    {
     "data": {
      "text/plain": "          RI     Na        Mg        Al         Si     K    Ca    Ba   Fe  \\\n0    1.52101  13.64  4.490000  1.100000  71.780000  0.06  8.75  0.00  0.0   \n1    1.51761  13.89  3.600000  1.360000  72.730000  0.48  7.83  0.00  0.0   \n2    1.51618  13.53  3.550000  1.540000  72.800021  0.39  7.78  0.00  0.0   \n3    1.51766  13.21  3.690000  1.290000  72.610000  0.57  8.22  0.00  0.0   \n4    1.51742  13.27  3.620000  1.240000  73.080000  0.55  8.07  0.00  0.0   \n..       ...    ...       ...       ...        ...   ...   ...   ...  ...   \n209  1.51623  14.14  0.000000  2.880000  72.610000  0.08  9.18  1.06  0.0   \n210  1.51685  14.92  0.000000  2.079129  73.060000  0.00  8.40  1.59  0.0   \n211  1.52065  14.36  1.516483  2.020000  71.802041  0.00  8.44  1.64  0.0   \n212  1.51651  14.38  0.000000  1.940000  73.610000  0.00  8.48  1.57  0.0   \n213  1.51711  14.23  1.452990  2.080000  71.728465  0.00  8.62  1.67  0.0   \n\n     Type of glass  \n0              1.0  \n1              1.0  \n2              1.0  \n3              1.0  \n4              1.0  \n..             ...  \n209            7.0  \n210            7.0  \n211            7.0  \n212            7.0  \n213            7.0  \n\n[214 rows x 10 columns]",
      "text/html": "<div>\n<style scoped>\n    .dataframe tbody tr th:only-of-type {\n        vertical-align: middle;\n    }\n\n    .dataframe tbody tr th {\n        vertical-align: top;\n    }\n\n    .dataframe thead th {\n        text-align: right;\n    }\n</style>\n<table border=\"1\" class=\"dataframe\">\n  <thead>\n    <tr style=\"text-align: right;\">\n      <th></th>\n      <th>RI</th>\n      <th>Na</th>\n      <th>Mg</th>\n      <th>Al</th>\n      <th>Si</th>\n      <th>K</th>\n      <th>Ca</th>\n      <th>Ba</th>\n      <th>Fe</th>\n      <th>Type of glass</th>\n    </tr>\n  </thead>\n  <tbody>\n    <tr>\n      <th>0</th>\n      <td>1.52101</td>\n      <td>13.64</td>\n      <td>4.490000</td>\n      <td>1.100000</td>\n      <td>71.780000</td>\n      <td>0.06</td>\n      <td>8.75</td>\n      <td>0.00</td>\n      <td>0.0</td>\n      <td>1.0</td>\n    </tr>\n    <tr>\n      <th>1</th>\n      <td>1.51761</td>\n      <td>13.89</td>\n      <td>3.600000</td>\n      <td>1.360000</td>\n      <td>72.730000</td>\n      <td>0.48</td>\n      <td>7.83</td>\n      <td>0.00</td>\n      <td>0.0</td>\n      <td>1.0</td>\n    </tr>\n    <tr>\n      <th>2</th>\n      <td>1.51618</td>\n      <td>13.53</td>\n      <td>3.550000</td>\n      <td>1.540000</td>\n      <td>72.800021</td>\n      <td>0.39</td>\n      <td>7.78</td>\n      <td>0.00</td>\n      <td>0.0</td>\n      <td>1.0</td>\n    </tr>\n    <tr>\n      <th>3</th>\n      <td>1.51766</td>\n      <td>13.21</td>\n      <td>3.690000</td>\n      <td>1.290000</td>\n      <td>72.610000</td>\n      <td>0.57</td>\n      <td>8.22</td>\n      <td>0.00</td>\n      <td>0.0</td>\n      <td>1.0</td>\n    </tr>\n    <tr>\n      <th>4</th>\n      <td>1.51742</td>\n      <td>13.27</td>\n      <td>3.620000</td>\n      <td>1.240000</td>\n      <td>73.080000</td>\n      <td>0.55</td>\n      <td>8.07</td>\n      <td>0.00</td>\n      <td>0.0</td>\n      <td>1.0</td>\n    </tr>\n    <tr>\n      <th>...</th>\n      <td>...</td>\n      <td>...</td>\n      <td>...</td>\n      <td>...</td>\n      <td>...</td>\n      <td>...</td>\n      <td>...</td>\n      <td>...</td>\n      <td>...</td>\n      <td>...</td>\n    </tr>\n    <tr>\n      <th>209</th>\n      <td>1.51623</td>\n      <td>14.14</td>\n      <td>0.000000</td>\n      <td>2.880000</td>\n      <td>72.610000</td>\n      <td>0.08</td>\n      <td>9.18</td>\n      <td>1.06</td>\n      <td>0.0</td>\n      <td>7.0</td>\n    </tr>\n    <tr>\n      <th>210</th>\n      <td>1.51685</td>\n      <td>14.92</td>\n      <td>0.000000</td>\n      <td>2.079129</td>\n      <td>73.060000</td>\n      <td>0.00</td>\n      <td>8.40</td>\n      <td>1.59</td>\n      <td>0.0</td>\n      <td>7.0</td>\n    </tr>\n    <tr>\n      <th>211</th>\n      <td>1.52065</td>\n      <td>14.36</td>\n      <td>1.516483</td>\n      <td>2.020000</td>\n      <td>71.802041</td>\n      <td>0.00</td>\n      <td>8.44</td>\n      <td>1.64</td>\n      <td>0.0</td>\n      <td>7.0</td>\n    </tr>\n    <tr>\n      <th>212</th>\n      <td>1.51651</td>\n      <td>14.38</td>\n      <td>0.000000</td>\n      <td>1.940000</td>\n      <td>73.610000</td>\n      <td>0.00</td>\n      <td>8.48</td>\n      <td>1.57</td>\n      <td>0.0</td>\n      <td>7.0</td>\n    </tr>\n    <tr>\n      <th>213</th>\n      <td>1.51711</td>\n      <td>14.23</td>\n      <td>1.452990</td>\n      <td>2.080000</td>\n      <td>71.728465</td>\n      <td>0.00</td>\n      <td>8.62</td>\n      <td>1.67</td>\n      <td>0.0</td>\n      <td>7.0</td>\n    </tr>\n  </tbody>\n</table>\n<p>214 rows × 10 columns</p>\n</div>"
     },
     "execution_count": 6,
     "metadata": {},
     "output_type": "execute_result"
    }
   ],
   "source": [
    "X_filled_hyper = hyper.fit_transform(X_with_nan.copy())\n",
    "print(\"RMSE: \", RMSE(X.values, X_filled_hyper.values, mask))\n",
    "\n",
    "X_filled_hyper"
   ],
   "metadata": {
    "collapsed": false,
    "ExecuteTime": {
     "end_time": "2024-05-08T08:53:07.086619Z",
     "start_time": "2024-05-08T08:53:06.276589Z"
    }
   },
   "id": "3772f6d0db99af0f",
   "execution_count": 6
  },
  {
   "cell_type": "code",
   "outputs": [
    {
     "name": "stdout",
     "output_type": "stream",
     "text": [
      "RMSE:  1.06569873255134\n"
     ]
    },
    {
     "data": {
      "text/plain": "          RI     Na        Mg        Al         Si     K    Ca    Ba   Fe  \\\n0    1.52101  13.64  4.490000  1.100000  71.780000  0.06  8.75  0.00  0.0   \n1    1.51761  13.89  3.600000  1.360000  72.730000  0.48  7.83  0.00  0.0   \n2    1.51618  13.53  3.550000  1.540000  72.748292  0.39  7.78  0.00  0.0   \n3    1.51766  13.21  3.690000  1.290000  72.610000  0.57  8.22  0.00  0.0   \n4    1.51742  13.27  3.620000  1.240000  73.080000  0.55  8.07  0.00  0.0   \n..       ...    ...       ...       ...        ...   ...   ...   ...  ...   \n209  1.51623  14.14  0.000000  2.880000  72.610000  0.08  9.18  1.06  0.0   \n210  1.51685  14.92  0.000000  2.061351  73.060000  0.00  8.40  1.59  0.0   \n211  1.52065  14.36  0.602022  2.020000  72.593524  0.00  8.44  1.64  0.0   \n212  1.51651  14.38  0.000000  1.940000  73.610000  0.00  8.48  1.57  0.0   \n213  1.51711  14.23  0.195755  2.080000  73.027232  0.00  8.62  1.67  0.0   \n\n     Type of glass  \n0              1.0  \n1              1.0  \n2              1.0  \n3              1.0  \n4              1.0  \n..             ...  \n209            7.0  \n210            7.0  \n211            7.0  \n212            7.0  \n213            7.0  \n\n[214 rows x 10 columns]",
      "text/html": "<div>\n<style scoped>\n    .dataframe tbody tr th:only-of-type {\n        vertical-align: middle;\n    }\n\n    .dataframe tbody tr th {\n        vertical-align: top;\n    }\n\n    .dataframe thead th {\n        text-align: right;\n    }\n</style>\n<table border=\"1\" class=\"dataframe\">\n  <thead>\n    <tr style=\"text-align: right;\">\n      <th></th>\n      <th>RI</th>\n      <th>Na</th>\n      <th>Mg</th>\n      <th>Al</th>\n      <th>Si</th>\n      <th>K</th>\n      <th>Ca</th>\n      <th>Ba</th>\n      <th>Fe</th>\n      <th>Type of glass</th>\n    </tr>\n  </thead>\n  <tbody>\n    <tr>\n      <th>0</th>\n      <td>1.52101</td>\n      <td>13.64</td>\n      <td>4.490000</td>\n      <td>1.100000</td>\n      <td>71.780000</td>\n      <td>0.06</td>\n      <td>8.75</td>\n      <td>0.00</td>\n      <td>0.0</td>\n      <td>1.0</td>\n    </tr>\n    <tr>\n      <th>1</th>\n      <td>1.51761</td>\n      <td>13.89</td>\n      <td>3.600000</td>\n      <td>1.360000</td>\n      <td>72.730000</td>\n      <td>0.48</td>\n      <td>7.83</td>\n      <td>0.00</td>\n      <td>0.0</td>\n      <td>1.0</td>\n    </tr>\n    <tr>\n      <th>2</th>\n      <td>1.51618</td>\n      <td>13.53</td>\n      <td>3.550000</td>\n      <td>1.540000</td>\n      <td>72.748292</td>\n      <td>0.39</td>\n      <td>7.78</td>\n      <td>0.00</td>\n      <td>0.0</td>\n      <td>1.0</td>\n    </tr>\n    <tr>\n      <th>3</th>\n      <td>1.51766</td>\n      <td>13.21</td>\n      <td>3.690000</td>\n      <td>1.290000</td>\n      <td>72.610000</td>\n      <td>0.57</td>\n      <td>8.22</td>\n      <td>0.00</td>\n      <td>0.0</td>\n      <td>1.0</td>\n    </tr>\n    <tr>\n      <th>4</th>\n      <td>1.51742</td>\n      <td>13.27</td>\n      <td>3.620000</td>\n      <td>1.240000</td>\n      <td>73.080000</td>\n      <td>0.55</td>\n      <td>8.07</td>\n      <td>0.00</td>\n      <td>0.0</td>\n      <td>1.0</td>\n    </tr>\n    <tr>\n      <th>...</th>\n      <td>...</td>\n      <td>...</td>\n      <td>...</td>\n      <td>...</td>\n      <td>...</td>\n      <td>...</td>\n      <td>...</td>\n      <td>...</td>\n      <td>...</td>\n      <td>...</td>\n    </tr>\n    <tr>\n      <th>209</th>\n      <td>1.51623</td>\n      <td>14.14</td>\n      <td>0.000000</td>\n      <td>2.880000</td>\n      <td>72.610000</td>\n      <td>0.08</td>\n      <td>9.18</td>\n      <td>1.06</td>\n      <td>0.0</td>\n      <td>7.0</td>\n    </tr>\n    <tr>\n      <th>210</th>\n      <td>1.51685</td>\n      <td>14.92</td>\n      <td>0.000000</td>\n      <td>2.061351</td>\n      <td>73.060000</td>\n      <td>0.00</td>\n      <td>8.40</td>\n      <td>1.59</td>\n      <td>0.0</td>\n      <td>7.0</td>\n    </tr>\n    <tr>\n      <th>211</th>\n      <td>1.52065</td>\n      <td>14.36</td>\n      <td>0.602022</td>\n      <td>2.020000</td>\n      <td>72.593524</td>\n      <td>0.00</td>\n      <td>8.44</td>\n      <td>1.64</td>\n      <td>0.0</td>\n      <td>7.0</td>\n    </tr>\n    <tr>\n      <th>212</th>\n      <td>1.51651</td>\n      <td>14.38</td>\n      <td>0.000000</td>\n      <td>1.940000</td>\n      <td>73.610000</td>\n      <td>0.00</td>\n      <td>8.48</td>\n      <td>1.57</td>\n      <td>0.0</td>\n      <td>7.0</td>\n    </tr>\n    <tr>\n      <th>213</th>\n      <td>1.51711</td>\n      <td>14.23</td>\n      <td>0.195755</td>\n      <td>2.080000</td>\n      <td>73.027232</td>\n      <td>0.00</td>\n      <td>8.62</td>\n      <td>1.67</td>\n      <td>0.0</td>\n      <td>7.0</td>\n    </tr>\n  </tbody>\n</table>\n<p>214 rows × 10 columns</p>\n</div>"
     },
     "execution_count": 7,
     "metadata": {},
     "output_type": "execute_result"
    }
   ],
   "source": [
    "X_filled_missforest = missforest.fit_transform(X_with_nan.copy())\n",
    "print(\"RMSE: \", RMSE(X.values, X_filled_missforest.values, mask))\n",
    "\n",
    "X_filled_missforest"
   ],
   "metadata": {
    "collapsed": false,
    "ExecuteTime": {
     "end_time": "2024-05-08T08:53:19.147315Z",
     "start_time": "2024-05-08T08:53:08.170663Z"
    }
   },
   "id": "71c7ef1723d9d5cc",
   "execution_count": 7
  },
  {
   "cell_type": "code",
   "outputs": [
    {
     "name": "stdout",
     "output_type": "stream",
     "text": [
      "RMSE:  1.2226482761345954\n"
     ]
    },
    {
     "data": {
      "text/plain": "           0      1         2         3          4     5     6     7    8    9\n0    1.52101  13.64  4.490000  1.100000  71.780000  0.06  8.75  0.00  0.0  1.0\n1    1.51761  13.89  3.600000  1.360000  72.730000  0.48  7.83  0.00  0.0  1.0\n2    1.51618  13.53  3.550000  1.540000  72.977371  0.39  7.78  0.00  0.0  1.0\n3    1.51766  13.21  3.690000  1.290000  72.610000  0.57  8.22  0.00  0.0  1.0\n4    1.51742  13.27  3.620000  1.240000  73.080000  0.55  8.07  0.00  0.0  1.0\n..       ...    ...       ...       ...        ...   ...   ...   ...  ...  ...\n209  1.51623  14.14  0.000000  2.880000  72.610000  0.08  9.18  1.06  0.0  7.0\n210  1.51685  14.92  0.000000  2.283458  73.060000  0.00  8.40  1.59  0.0  7.0\n211  1.52065  14.36  0.434530  2.020000  72.732132  0.00  8.44  1.64  0.0  7.0\n212  1.51651  14.38  0.000000  1.940000  73.610000  0.00  8.48  1.57  0.0  7.0\n213  1.51711  14.23  0.515462  2.080000  72.914246  0.00  8.62  1.67  0.0  7.0\n\n[214 rows x 10 columns]",
      "text/html": "<div>\n<style scoped>\n    .dataframe tbody tr th:only-of-type {\n        vertical-align: middle;\n    }\n\n    .dataframe tbody tr th {\n        vertical-align: top;\n    }\n\n    .dataframe thead th {\n        text-align: right;\n    }\n</style>\n<table border=\"1\" class=\"dataframe\">\n  <thead>\n    <tr style=\"text-align: right;\">\n      <th></th>\n      <th>0</th>\n      <th>1</th>\n      <th>2</th>\n      <th>3</th>\n      <th>4</th>\n      <th>5</th>\n      <th>6</th>\n      <th>7</th>\n      <th>8</th>\n      <th>9</th>\n    </tr>\n  </thead>\n  <tbody>\n    <tr>\n      <th>0</th>\n      <td>1.52101</td>\n      <td>13.64</td>\n      <td>4.490000</td>\n      <td>1.100000</td>\n      <td>71.780000</td>\n      <td>0.06</td>\n      <td>8.75</td>\n      <td>0.00</td>\n      <td>0.0</td>\n      <td>1.0</td>\n    </tr>\n    <tr>\n      <th>1</th>\n      <td>1.51761</td>\n      <td>13.89</td>\n      <td>3.600000</td>\n      <td>1.360000</td>\n      <td>72.730000</td>\n      <td>0.48</td>\n      <td>7.83</td>\n      <td>0.00</td>\n      <td>0.0</td>\n      <td>1.0</td>\n    </tr>\n    <tr>\n      <th>2</th>\n      <td>1.51618</td>\n      <td>13.53</td>\n      <td>3.550000</td>\n      <td>1.540000</td>\n      <td>72.977371</td>\n      <td>0.39</td>\n      <td>7.78</td>\n      <td>0.00</td>\n      <td>0.0</td>\n      <td>1.0</td>\n    </tr>\n    <tr>\n      <th>3</th>\n      <td>1.51766</td>\n      <td>13.21</td>\n      <td>3.690000</td>\n      <td>1.290000</td>\n      <td>72.610000</td>\n      <td>0.57</td>\n      <td>8.22</td>\n      <td>0.00</td>\n      <td>0.0</td>\n      <td>1.0</td>\n    </tr>\n    <tr>\n      <th>4</th>\n      <td>1.51742</td>\n      <td>13.27</td>\n      <td>3.620000</td>\n      <td>1.240000</td>\n      <td>73.080000</td>\n      <td>0.55</td>\n      <td>8.07</td>\n      <td>0.00</td>\n      <td>0.0</td>\n      <td>1.0</td>\n    </tr>\n    <tr>\n      <th>...</th>\n      <td>...</td>\n      <td>...</td>\n      <td>...</td>\n      <td>...</td>\n      <td>...</td>\n      <td>...</td>\n      <td>...</td>\n      <td>...</td>\n      <td>...</td>\n      <td>...</td>\n    </tr>\n    <tr>\n      <th>209</th>\n      <td>1.51623</td>\n      <td>14.14</td>\n      <td>0.000000</td>\n      <td>2.880000</td>\n      <td>72.610000</td>\n      <td>0.08</td>\n      <td>9.18</td>\n      <td>1.06</td>\n      <td>0.0</td>\n      <td>7.0</td>\n    </tr>\n    <tr>\n      <th>210</th>\n      <td>1.51685</td>\n      <td>14.92</td>\n      <td>0.000000</td>\n      <td>2.283458</td>\n      <td>73.060000</td>\n      <td>0.00</td>\n      <td>8.40</td>\n      <td>1.59</td>\n      <td>0.0</td>\n      <td>7.0</td>\n    </tr>\n    <tr>\n      <th>211</th>\n      <td>1.52065</td>\n      <td>14.36</td>\n      <td>0.434530</td>\n      <td>2.020000</td>\n      <td>72.732132</td>\n      <td>0.00</td>\n      <td>8.44</td>\n      <td>1.64</td>\n      <td>0.0</td>\n      <td>7.0</td>\n    </tr>\n    <tr>\n      <th>212</th>\n      <td>1.51651</td>\n      <td>14.38</td>\n      <td>0.000000</td>\n      <td>1.940000</td>\n      <td>73.610000</td>\n      <td>0.00</td>\n      <td>8.48</td>\n      <td>1.57</td>\n      <td>0.0</td>\n      <td>7.0</td>\n    </tr>\n    <tr>\n      <th>213</th>\n      <td>1.51711</td>\n      <td>14.23</td>\n      <td>0.515462</td>\n      <td>2.080000</td>\n      <td>72.914246</td>\n      <td>0.00</td>\n      <td>8.62</td>\n      <td>1.67</td>\n      <td>0.0</td>\n      <td>7.0</td>\n    </tr>\n  </tbody>\n</table>\n<p>214 rows × 10 columns</p>\n</div>"
     },
     "execution_count": 8,
     "metadata": {},
     "output_type": "execute_result"
    }
   ],
   "source": [
    "X_filled_gain = gain.fit_transform(X_with_nan.copy())\n",
    "print(\"RMSE: \", RMSE(X.values, X_filled_gain.values, mask))\n",
    "\n",
    "X_filled_gain"
   ],
   "metadata": {
    "collapsed": false,
    "ExecuteTime": {
     "end_time": "2024-05-08T08:53:26.819361Z",
     "start_time": "2024-05-08T08:53:19.148088Z"
    }
   },
   "id": "1803d2f22df6cd39",
   "execution_count": 8
  },
  {
   "cell_type": "code",
   "outputs": [
    {
     "data": {
      "text/plain": "          RI     Na        Mg        Al         Si     K    Ca    Ba   Fe  \\\n0    1.52101  13.64  4.490000  1.100000  71.780000  0.06  8.75  0.00  0.0   \n1    1.51761  13.89  3.600000  1.360000  72.730000  0.48  7.83  0.00  0.0   \n2    1.51618  13.53  3.550000  1.540000  72.977371  0.39  7.78  0.00  0.0   \n3    1.51766  13.21  3.690000  1.290000  72.610000  0.57  8.22  0.00  0.0   \n4    1.51742  13.27  3.620000  1.240000  73.080000  0.55  8.07  0.00  0.0   \n..       ...    ...       ...       ...        ...   ...   ...   ...  ...   \n209  1.51623  14.14  0.000000  2.880000  72.610000  0.08  9.18  1.06  0.0   \n210  1.51685  14.92  0.000000  2.283458  73.060000  0.00  8.40  1.59  0.0   \n211  1.52065  14.36  0.434530  2.020000  72.732132  0.00  8.44  1.64  0.0   \n212  1.51651  14.38  0.000000  1.940000  73.610000  0.00  8.48  1.57  0.0   \n213  1.51711  14.23  0.515462  2.080000  72.914246  0.00  8.62  1.67  0.0   \n\n     Type of glass  \n0              1.0  \n1              1.0  \n2              1.0  \n3              1.0  \n4              1.0  \n..             ...  \n209            7.0  \n210            7.0  \n211            7.0  \n212            7.0  \n213            7.0  \n\n[214 rows x 10 columns]",
      "text/html": "<div>\n<style scoped>\n    .dataframe tbody tr th:only-of-type {\n        vertical-align: middle;\n    }\n\n    .dataframe tbody tr th {\n        vertical-align: top;\n    }\n\n    .dataframe thead th {\n        text-align: right;\n    }\n</style>\n<table border=\"1\" class=\"dataframe\">\n  <thead>\n    <tr style=\"text-align: right;\">\n      <th></th>\n      <th>RI</th>\n      <th>Na</th>\n      <th>Mg</th>\n      <th>Al</th>\n      <th>Si</th>\n      <th>K</th>\n      <th>Ca</th>\n      <th>Ba</th>\n      <th>Fe</th>\n      <th>Type of glass</th>\n    </tr>\n  </thead>\n  <tbody>\n    <tr>\n      <th>0</th>\n      <td>1.52101</td>\n      <td>13.64</td>\n      <td>4.490000</td>\n      <td>1.100000</td>\n      <td>71.780000</td>\n      <td>0.06</td>\n      <td>8.75</td>\n      <td>0.00</td>\n      <td>0.0</td>\n      <td>1.0</td>\n    </tr>\n    <tr>\n      <th>1</th>\n      <td>1.51761</td>\n      <td>13.89</td>\n      <td>3.600000</td>\n      <td>1.360000</td>\n      <td>72.730000</td>\n      <td>0.48</td>\n      <td>7.83</td>\n      <td>0.00</td>\n      <td>0.0</td>\n      <td>1.0</td>\n    </tr>\n    <tr>\n      <th>2</th>\n      <td>1.51618</td>\n      <td>13.53</td>\n      <td>3.550000</td>\n      <td>1.540000</td>\n      <td>72.977371</td>\n      <td>0.39</td>\n      <td>7.78</td>\n      <td>0.00</td>\n      <td>0.0</td>\n      <td>1.0</td>\n    </tr>\n    <tr>\n      <th>3</th>\n      <td>1.51766</td>\n      <td>13.21</td>\n      <td>3.690000</td>\n      <td>1.290000</td>\n      <td>72.610000</td>\n      <td>0.57</td>\n      <td>8.22</td>\n      <td>0.00</td>\n      <td>0.0</td>\n      <td>1.0</td>\n    </tr>\n    <tr>\n      <th>4</th>\n      <td>1.51742</td>\n      <td>13.27</td>\n      <td>3.620000</td>\n      <td>1.240000</td>\n      <td>73.080000</td>\n      <td>0.55</td>\n      <td>8.07</td>\n      <td>0.00</td>\n      <td>0.0</td>\n      <td>1.0</td>\n    </tr>\n    <tr>\n      <th>...</th>\n      <td>...</td>\n      <td>...</td>\n      <td>...</td>\n      <td>...</td>\n      <td>...</td>\n      <td>...</td>\n      <td>...</td>\n      <td>...</td>\n      <td>...</td>\n      <td>...</td>\n    </tr>\n    <tr>\n      <th>209</th>\n      <td>1.51623</td>\n      <td>14.14</td>\n      <td>0.000000</td>\n      <td>2.880000</td>\n      <td>72.610000</td>\n      <td>0.08</td>\n      <td>9.18</td>\n      <td>1.06</td>\n      <td>0.0</td>\n      <td>7.0</td>\n    </tr>\n    <tr>\n      <th>210</th>\n      <td>1.51685</td>\n      <td>14.92</td>\n      <td>0.000000</td>\n      <td>2.283458</td>\n      <td>73.060000</td>\n      <td>0.00</td>\n      <td>8.40</td>\n      <td>1.59</td>\n      <td>0.0</td>\n      <td>7.0</td>\n    </tr>\n    <tr>\n      <th>211</th>\n      <td>1.52065</td>\n      <td>14.36</td>\n      <td>0.434530</td>\n      <td>2.020000</td>\n      <td>72.732132</td>\n      <td>0.00</td>\n      <td>8.44</td>\n      <td>1.64</td>\n      <td>0.0</td>\n      <td>7.0</td>\n    </tr>\n    <tr>\n      <th>212</th>\n      <td>1.51651</td>\n      <td>14.38</td>\n      <td>0.000000</td>\n      <td>1.940000</td>\n      <td>73.610000</td>\n      <td>0.00</td>\n      <td>8.48</td>\n      <td>1.57</td>\n      <td>0.0</td>\n      <td>7.0</td>\n    </tr>\n    <tr>\n      <th>213</th>\n      <td>1.51711</td>\n      <td>14.23</td>\n      <td>0.515462</td>\n      <td>2.080000</td>\n      <td>72.914246</td>\n      <td>0.00</td>\n      <td>8.62</td>\n      <td>1.67</td>\n      <td>0.0</td>\n      <td>7.0</td>\n    </tr>\n  </tbody>\n</table>\n<p>214 rows × 10 columns</p>\n</div>"
     },
     "execution_count": 9,
     "metadata": {},
     "output_type": "execute_result"
    }
   ],
   "source": [
    "# set  X_filled_gain cols\n",
    "X_filled_gain.columns = X.columns\n",
    "X_filled_gain"
   ],
   "metadata": {
    "collapsed": false,
    "ExecuteTime": {
     "end_time": "2024-05-08T08:53:26.831020Z",
     "start_time": "2024-05-08T08:53:26.820370Z"
    }
   },
   "id": "2f4a240732f5006f",
   "execution_count": 9
  },
  {
   "cell_type": "code",
   "outputs": [
    {
     "name": "stdout",
     "output_type": "stream",
     "text": [
      "RMSE:  1.5321162116982119\n"
     ]
    }
   ],
   "source": [
    "X_filled_sinkhorn = sinkhorn.fit_transform(X_with_nan.copy())\n",
    "\n",
    "print(\"RMSE: \", RMSE(X.values, X_filled_sinkhorn.values, mask))\n"
   ],
   "metadata": {
    "collapsed": false,
    "ExecuteTime": {
     "end_time": "2024-05-08T08:53:44.205548Z",
     "start_time": "2024-05-08T08:53:26.831584Z"
    }
   },
   "id": "e22e41d648332f8c",
   "execution_count": 10
  },
  {
   "cell_type": "code",
   "outputs": [
    {
     "data": {
      "text/plain": "          RI     Na        Mg        Al         Si     K    Ca    Ba   Fe  \\\n0    1.52101  13.64  4.490000  1.100000  71.780000  0.06  8.75  0.00  0.0   \n1    1.51761  13.89  3.600000  1.360000  72.730000  0.48  7.83  0.00  0.0   \n2    1.51618  13.53  3.550000  1.540000  72.696515  0.39  7.78  0.00  0.0   \n3    1.51766  13.21  3.690000  1.290000  72.610000  0.57  8.22  0.00  0.0   \n4    1.51742  13.27  3.620000  1.240000  73.080000  0.55  8.07  0.00  0.0   \n..       ...    ...       ...       ...        ...   ...   ...   ...  ...   \n209  1.51623  14.14  0.000000  2.880000  72.610000  0.08  9.18  1.06  0.0   \n210  1.51685  14.92  0.000000  2.192435  73.060000  0.00  8.40  1.59  0.0   \n211  1.52065  14.36  2.031353  2.020000  72.731822  0.00  8.44  1.64  0.0   \n212  1.51651  14.38  0.000000  1.940000  73.610000  0.00  8.48  1.57  0.0   \n213  1.51711  14.23  1.881505  2.080000  72.709306  0.00  8.62  1.67  0.0   \n\n     Type of glass  \n0              1.0  \n1              1.0  \n2              1.0  \n3              1.0  \n4              1.0  \n..             ...  \n209            7.0  \n210            7.0  \n211            7.0  \n212            7.0  \n213            7.0  \n\n[214 rows x 10 columns]",
      "text/html": "<div>\n<style scoped>\n    .dataframe tbody tr th:only-of-type {\n        vertical-align: middle;\n    }\n\n    .dataframe tbody tr th {\n        vertical-align: top;\n    }\n\n    .dataframe thead th {\n        text-align: right;\n    }\n</style>\n<table border=\"1\" class=\"dataframe\">\n  <thead>\n    <tr style=\"text-align: right;\">\n      <th></th>\n      <th>RI</th>\n      <th>Na</th>\n      <th>Mg</th>\n      <th>Al</th>\n      <th>Si</th>\n      <th>K</th>\n      <th>Ca</th>\n      <th>Ba</th>\n      <th>Fe</th>\n      <th>Type of glass</th>\n    </tr>\n  </thead>\n  <tbody>\n    <tr>\n      <th>0</th>\n      <td>1.52101</td>\n      <td>13.64</td>\n      <td>4.490000</td>\n      <td>1.100000</td>\n      <td>71.780000</td>\n      <td>0.06</td>\n      <td>8.75</td>\n      <td>0.00</td>\n      <td>0.0</td>\n      <td>1.0</td>\n    </tr>\n    <tr>\n      <th>1</th>\n      <td>1.51761</td>\n      <td>13.89</td>\n      <td>3.600000</td>\n      <td>1.360000</td>\n      <td>72.730000</td>\n      <td>0.48</td>\n      <td>7.83</td>\n      <td>0.00</td>\n      <td>0.0</td>\n      <td>1.0</td>\n    </tr>\n    <tr>\n      <th>2</th>\n      <td>1.51618</td>\n      <td>13.53</td>\n      <td>3.550000</td>\n      <td>1.540000</td>\n      <td>72.696515</td>\n      <td>0.39</td>\n      <td>7.78</td>\n      <td>0.00</td>\n      <td>0.0</td>\n      <td>1.0</td>\n    </tr>\n    <tr>\n      <th>3</th>\n      <td>1.51766</td>\n      <td>13.21</td>\n      <td>3.690000</td>\n      <td>1.290000</td>\n      <td>72.610000</td>\n      <td>0.57</td>\n      <td>8.22</td>\n      <td>0.00</td>\n      <td>0.0</td>\n      <td>1.0</td>\n    </tr>\n    <tr>\n      <th>4</th>\n      <td>1.51742</td>\n      <td>13.27</td>\n      <td>3.620000</td>\n      <td>1.240000</td>\n      <td>73.080000</td>\n      <td>0.55</td>\n      <td>8.07</td>\n      <td>0.00</td>\n      <td>0.0</td>\n      <td>1.0</td>\n    </tr>\n    <tr>\n      <th>...</th>\n      <td>...</td>\n      <td>...</td>\n      <td>...</td>\n      <td>...</td>\n      <td>...</td>\n      <td>...</td>\n      <td>...</td>\n      <td>...</td>\n      <td>...</td>\n      <td>...</td>\n    </tr>\n    <tr>\n      <th>209</th>\n      <td>1.51623</td>\n      <td>14.14</td>\n      <td>0.000000</td>\n      <td>2.880000</td>\n      <td>72.610000</td>\n      <td>0.08</td>\n      <td>9.18</td>\n      <td>1.06</td>\n      <td>0.0</td>\n      <td>7.0</td>\n    </tr>\n    <tr>\n      <th>210</th>\n      <td>1.51685</td>\n      <td>14.92</td>\n      <td>0.000000</td>\n      <td>2.192435</td>\n      <td>73.060000</td>\n      <td>0.00</td>\n      <td>8.40</td>\n      <td>1.59</td>\n      <td>0.0</td>\n      <td>7.0</td>\n    </tr>\n    <tr>\n      <th>211</th>\n      <td>1.52065</td>\n      <td>14.36</td>\n      <td>2.031353</td>\n      <td>2.020000</td>\n      <td>72.731822</td>\n      <td>0.00</td>\n      <td>8.44</td>\n      <td>1.64</td>\n      <td>0.0</td>\n      <td>7.0</td>\n    </tr>\n    <tr>\n      <th>212</th>\n      <td>1.51651</td>\n      <td>14.38</td>\n      <td>0.000000</td>\n      <td>1.940000</td>\n      <td>73.610000</td>\n      <td>0.00</td>\n      <td>8.48</td>\n      <td>1.57</td>\n      <td>0.0</td>\n      <td>7.0</td>\n    </tr>\n    <tr>\n      <th>213</th>\n      <td>1.51711</td>\n      <td>14.23</td>\n      <td>1.881505</td>\n      <td>2.080000</td>\n      <td>72.709306</td>\n      <td>0.00</td>\n      <td>8.62</td>\n      <td>1.67</td>\n      <td>0.0</td>\n      <td>7.0</td>\n    </tr>\n  </tbody>\n</table>\n<p>214 rows × 10 columns</p>\n</div>"
     },
     "execution_count": 11,
     "metadata": {},
     "output_type": "execute_result"
    }
   ],
   "source": [
    "X_filled_sinkhorn.columns = X.columns\n",
    "\n",
    "X_filled_sinkhorn"
   ],
   "metadata": {
    "collapsed": false,
    "ExecuteTime": {
     "end_time": "2024-05-08T08:53:44.217351Z",
     "start_time": "2024-05-08T08:53:44.206605Z"
    }
   },
   "id": "228a59aba3ae134",
   "execution_count": 11
  },
  {
   "cell_type": "code",
   "outputs": [
    {
     "name": "stdout",
     "output_type": "stream",
     "text": [
      "RMSE:  1.782808832772206\n"
     ]
    },
    {
     "data": {
      "text/plain": "          RI     Na        Mg        Al         Si     K    Ca    Ba   Fe  \\\n0    1.52101  13.64  4.490000  1.100000  71.780000  0.06  8.75  0.00  0.0   \n1    1.51761  13.89  3.600000  1.360000  72.730000  0.48  7.83  0.00  0.0   \n2    1.51618  13.53  3.550000  1.540000  72.657672  0.39  7.78  0.00  0.0   \n3    1.51766  13.21  3.690000  1.290000  72.610000  0.57  8.22  0.00  0.0   \n4    1.51742  13.27  3.620000  1.240000  73.080000  0.55  8.07  0.00  0.0   \n..       ...    ...       ...       ...        ...   ...   ...   ...  ...   \n209  1.51623  14.14  0.000000  2.880000  72.610000  0.08  9.18  1.06  0.0   \n210  1.51685  14.92  0.000000  1.431333  73.060000  0.00  8.40  1.59  0.0   \n211  1.52065  14.36  2.781604  2.020000  72.657672  0.00  8.44  1.64  0.0   \n212  1.51651  14.38  0.000000  1.940000  73.610000  0.00  8.48  1.57  0.0   \n213  1.51711  14.23  2.781604  2.080000  72.657672  0.00  8.62  1.67  0.0   \n\n     Type of glass  \n0              1.0  \n1              1.0  \n2              1.0  \n3              1.0  \n4              1.0  \n..             ...  \n209            7.0  \n210            7.0  \n211            7.0  \n212            7.0  \n213            7.0  \n\n[214 rows x 10 columns]",
      "text/html": "<div>\n<style scoped>\n    .dataframe tbody tr th:only-of-type {\n        vertical-align: middle;\n    }\n\n    .dataframe tbody tr th {\n        vertical-align: top;\n    }\n\n    .dataframe thead th {\n        text-align: right;\n    }\n</style>\n<table border=\"1\" class=\"dataframe\">\n  <thead>\n    <tr style=\"text-align: right;\">\n      <th></th>\n      <th>RI</th>\n      <th>Na</th>\n      <th>Mg</th>\n      <th>Al</th>\n      <th>Si</th>\n      <th>K</th>\n      <th>Ca</th>\n      <th>Ba</th>\n      <th>Fe</th>\n      <th>Type of glass</th>\n    </tr>\n  </thead>\n  <tbody>\n    <tr>\n      <th>0</th>\n      <td>1.52101</td>\n      <td>13.64</td>\n      <td>4.490000</td>\n      <td>1.100000</td>\n      <td>71.780000</td>\n      <td>0.06</td>\n      <td>8.75</td>\n      <td>0.00</td>\n      <td>0.0</td>\n      <td>1.0</td>\n    </tr>\n    <tr>\n      <th>1</th>\n      <td>1.51761</td>\n      <td>13.89</td>\n      <td>3.600000</td>\n      <td>1.360000</td>\n      <td>72.730000</td>\n      <td>0.48</td>\n      <td>7.83</td>\n      <td>0.00</td>\n      <td>0.0</td>\n      <td>1.0</td>\n    </tr>\n    <tr>\n      <th>2</th>\n      <td>1.51618</td>\n      <td>13.53</td>\n      <td>3.550000</td>\n      <td>1.540000</td>\n      <td>72.657672</td>\n      <td>0.39</td>\n      <td>7.78</td>\n      <td>0.00</td>\n      <td>0.0</td>\n      <td>1.0</td>\n    </tr>\n    <tr>\n      <th>3</th>\n      <td>1.51766</td>\n      <td>13.21</td>\n      <td>3.690000</td>\n      <td>1.290000</td>\n      <td>72.610000</td>\n      <td>0.57</td>\n      <td>8.22</td>\n      <td>0.00</td>\n      <td>0.0</td>\n      <td>1.0</td>\n    </tr>\n    <tr>\n      <th>4</th>\n      <td>1.51742</td>\n      <td>13.27</td>\n      <td>3.620000</td>\n      <td>1.240000</td>\n      <td>73.080000</td>\n      <td>0.55</td>\n      <td>8.07</td>\n      <td>0.00</td>\n      <td>0.0</td>\n      <td>1.0</td>\n    </tr>\n    <tr>\n      <th>...</th>\n      <td>...</td>\n      <td>...</td>\n      <td>...</td>\n      <td>...</td>\n      <td>...</td>\n      <td>...</td>\n      <td>...</td>\n      <td>...</td>\n      <td>...</td>\n      <td>...</td>\n    </tr>\n    <tr>\n      <th>209</th>\n      <td>1.51623</td>\n      <td>14.14</td>\n      <td>0.000000</td>\n      <td>2.880000</td>\n      <td>72.610000</td>\n      <td>0.08</td>\n      <td>9.18</td>\n      <td>1.06</td>\n      <td>0.0</td>\n      <td>7.0</td>\n    </tr>\n    <tr>\n      <th>210</th>\n      <td>1.51685</td>\n      <td>14.92</td>\n      <td>0.000000</td>\n      <td>1.431333</td>\n      <td>73.060000</td>\n      <td>0.00</td>\n      <td>8.40</td>\n      <td>1.59</td>\n      <td>0.0</td>\n      <td>7.0</td>\n    </tr>\n    <tr>\n      <th>211</th>\n      <td>1.52065</td>\n      <td>14.36</td>\n      <td>2.781604</td>\n      <td>2.020000</td>\n      <td>72.657672</td>\n      <td>0.00</td>\n      <td>8.44</td>\n      <td>1.64</td>\n      <td>0.0</td>\n      <td>7.0</td>\n    </tr>\n    <tr>\n      <th>212</th>\n      <td>1.51651</td>\n      <td>14.38</td>\n      <td>0.000000</td>\n      <td>1.940000</td>\n      <td>73.610000</td>\n      <td>0.00</td>\n      <td>8.48</td>\n      <td>1.57</td>\n      <td>0.0</td>\n      <td>7.0</td>\n    </tr>\n    <tr>\n      <th>213</th>\n      <td>1.51711</td>\n      <td>14.23</td>\n      <td>2.781604</td>\n      <td>2.080000</td>\n      <td>72.657672</td>\n      <td>0.00</td>\n      <td>8.62</td>\n      <td>1.67</td>\n      <td>0.0</td>\n      <td>7.0</td>\n    </tr>\n  </tbody>\n</table>\n<p>214 rows × 10 columns</p>\n</div>"
     },
     "execution_count": 12,
     "metadata": {},
     "output_type": "execute_result"
    }
   ],
   "source": [
    "X_filled_mean = mean.fit_transform(X_with_nan.copy())\n",
    "\n",
    "print(\"RMSE: \", RMSE(X.values, X_filled_mean.values, mask))\n",
    "\n",
    "X_filled_mean.columns = X.columns\n",
    "X_filled_mean"
   ],
   "metadata": {
    "collapsed": false,
    "ExecuteTime": {
     "end_time": "2024-05-08T08:53:44.233580Z",
     "start_time": "2024-05-08T08:53:44.218367Z"
    }
   },
   "id": "55169757bb062925",
   "execution_count": 12
  },
  {
   "cell_type": "code",
   "outputs": [
    {
     "data": {
      "text/plain": "['Mg', 'Al', 'Si', 'Ca', 'Type of glass']"
     },
     "execution_count": 13,
     "metadata": {},
     "output_type": "execute_result"
    }
   ],
   "source": [
    "missing_columns = X_with_nan.columns[X_with_nan.isnull().any()].tolist()\n",
    "missing_columns"
   ],
   "metadata": {
    "collapsed": false,
    "ExecuteTime": {
     "end_time": "2024-05-08T08:53:44.239592Z",
     "start_time": "2024-05-08T08:53:44.234189Z"
    }
   },
   "id": "dbbc8ae468fe6c44",
   "execution_count": 13
  },
  {
   "cell_type": "code",
   "outputs": [
    {
     "data": {
      "text/plain": "14     3.59\n23     3.57\n35     3.45\n51     3.33\n52     2.87\n54     2.81\n61     3.58\n88     3.50\n97     3.25\n106    0.00\n116    3.90\n122    3.54\n162    3.78\n163    2.68\n171    0.00\n179    2.19\n183    0.00\n185    3.20\n186    3.26\n189    1.83\n193    0.00\n194    0.00\n200    0.00\n205    0.00\n207    0.00\n211    0.00\n213    0.00\nName: Mg, dtype: float64"
     },
     "execution_count": 14,
     "metadata": {},
     "output_type": "execute_result"
    }
   ],
   "source": [
    "col = missing_columns[0]\n",
    "col_mean = X[col].mean()\n",
    "col_std = X[col].std()\n",
    "# 统计在填充前缺失值在一个std距离内的缺失值\n",
    "col_missing_index = X_with_nan[X_with_nan[col].isnull()].index\n",
    "col_missing_values = X_with_nan.loc[col_missing_index, col]\n",
    "original_values = X.loc[col_missing_index, col]\n",
    "original_values"
   ],
   "metadata": {
    "collapsed": false,
    "ExecuteTime": {
     "end_time": "2024-05-08T08:53:44.247922Z",
     "start_time": "2024-05-08T08:53:44.240781Z"
    }
   },
   "id": "1d72e894614045bf",
   "execution_count": 14
  },
  {
   "cell_type": "code",
   "outputs": [
    {
     "name": "stdout",
     "output_type": "stream",
     "text": [
      "et: Mg score_std: 0.6589340245625783, score_2std: 0.3712030860000566, score_3std: nan\n",
      "hyper: Mg score_std: 0.4816050217885039, score_2std: 1.23710791411435, score_3std: nan\n",
      "missforest: Mg score_std: 0.6659992039885665, score_2std: 0.5761034924799511, score_3std: nan\n",
      "gain: Mg score_std: 0.7793468269069268, score_2std: 0.7073273735307952, score_3std: nan\n",
      "sinkhorn: Mg score_std: 0.4188848187697241, score_2std: 1.2411164956787075, score_3std: nan\n",
      "mean: Mg score_std: 0.4725079967568397, score_2std: 1.9284450566231575, score_3std: nan\n",
      "et: Al score_std: 0.5263346188911092, score_2std: 1.1304572486357318, score_3std: 3.1557118911903985\n",
      "hyper: Al score_std: 0.5802199123055494, score_2std: 0.9941341033604932, score_3std: 2.961126011939729\n",
      "missforest: Al score_std: 0.5738093320473378, score_2std: 0.9806757225762507, score_3std: 2.9854327919232144\n",
      "gain: Al score_std: 0.6744350084675674, score_2std: 1.1193649083092874, score_3std: 2.9513873613698314\n",
      "sinkhorn: Al score_std: 0.5244598920899504, score_2std: 1.2038749536549667, score_3std: 2.945312134622811\n",
      "mean: Al score_std: 0.48435760014779644, score_2std: 1.4250027659015692, score_3std: 3.312523690733027\n",
      "et: Si score_std: 0.6928988534777119, score_2std: 1.0471466734454935, score_3std: 1.5057767883003033\n",
      "hyper: Si score_std: 1.3498909415078801, score_2std: 1.7100808528845273, score_3std: 1.753851996284042\n",
      "missforest: Si score_std: 0.5087987473921947, score_2std: 0.9319719236130429, score_3std: 2.463814565654117\n",
      "gain: Si score_std: 0.5001539316965662, score_2std: 1.4206947302181803, score_3std: 1.987543387995994\n",
      "sinkhorn: Si score_std: 0.6706523473374424, score_2std: 0.9217220190361953, score_3std: 2.885079067958472\n",
      "mean: Si score_std: 0.5836287423024163, score_2std: 1.4705024663049246, score_3std: 3.0985980027373468\n",
      "et: Ca score_std: 0.3571730436902916, score_2std: 1.422223941554335, score_3std: 1.8086174672795274\n",
      "hyper: Ca score_std: 0.1990263643782503, score_2std: 0.5479991196747206, score_3std: 1.960586299317139\n",
      "missforest: Ca score_std: 0.47218622968735635, score_2std: 1.5010960870693881, score_3std: 2.0416230959075956\n",
      "gain: Ca score_std: 0.3356815676191577, score_2std: 1.8610986415429456, score_3std: 2.3115978602997997\n",
      "sinkhorn: Ca score_std: 0.20506631346019918, score_2std: 1.501363338377708, score_3std: 2.3687547806922415\n",
      "mean: Ca score_std: 0.40805094843430256, score_2std: 1.5840364537536302, score_3std: 2.5067363863513608\n",
      "et: Type of glass score_std: 0.4472329817324959, score_2std: 0.2835678268542142, score_3std: 0.635268099652541\n",
      "hyper: Type of glass score_std: 0.5388921022644927, score_2std: 0.43799978296478204, score_3std: 0.7109207523785293\n",
      "missforest: Type of glass score_std: 0.43374597772222734, score_2std: 0.1604484705999781, score_3std: 0.5500532093219043\n",
      "gain: Type of glass score_std: 0.532789193079199, score_2std: 0.394699346592142, score_3std: 0.7376475767460547\n",
      "sinkhorn: Type of glass score_std: 0.36804709630448823, score_2std: 0.9468438763015099, score_3std: 1.9388454385771245\n",
      "mean: Type of glass score_std: 0.4185129878304257, score_2std: 1.2604106763526894, score_3std: 2.075343051442269\n"
     ]
    },
    {
     "data": {
      "text/plain": "<Figure size 1000x900 with 5 Axes>",
      "image/png": "[encoded data removed]"
     },
     "metadata": {},
     "output_type": "display_data"
    }
   ],
   "source": [
    "from scipy.stats import skew, kurtosis\n",
    "import numpy as np\n",
    "from sklearn.metrics import root_mean_squared_error as rmse\n",
    "import matplotlib.pyplot as plt\n",
    "import seaborn as sns\n",
    "import warnings\n",
    "\n",
    "warnings.filterwarnings(\"ignore\")\n",
    "sns.set_theme(style=\"whitegrid\")\n",
    "plt.rcParams[\"font.family\"] = \"Times New Roman\"\n",
    "my_palette = sns.color_palette([\"#F35F5F\", \"#7ED9D9\", \"#9467BD\", \"#5FBDFF\", \"#FDBF6F\", \"#B3DE69\", \"#FFC0D9\"])\n",
    "\n",
    "cols = 2\n",
    "rows = len(missing_columns) // cols if len(missing_columns) % cols == 0 else len(missing_columns) // cols + 1\n",
    "fig, axs = plt.subplots(rows, cols, figsize=(5 * cols, 3 * rows), sharex=True)\n",
    "axs = axs.flatten()\n",
    "\n",
    "all_df = pd.DataFrame(columns=[\"RMSE\", \"Method\", \"Range\", \"Col\"])\n",
    "\n",
    "for col in missing_columns:\n",
    "    ax = axs[missing_columns.index(col)]\n",
    "    df = pd.DataFrame(columns=[\"RMSE\", \"Method\", \"Range\"])\n",
    "\n",
    "    col_mean = X[col].mean()\n",
    "    col_std = X[col].std()\n",
    "    # 统计在填充前缺失值在一个std距离内的缺失值\n",
    "    col_missing_index = X_with_nan[X_with_nan[col].isnull()].index\n",
    "    col_missing_values = X_with_nan.loc[col_missing_index, col]\n",
    "    original_values = X.loc[col_missing_index, col]\n",
    "    count = {\"1\": [], \"2\": [], \"3\": []}\n",
    "    for idx, val in zip(col_missing_index, original_values):\n",
    "        if abs(val - col_mean) > 2 * col_std:\n",
    "            count[\"3\"].append(idx)\n",
    "        elif abs(val - col_mean) > 1 * col_std:\n",
    "            count[\"2\"].append(idx)\n",
    "        else:\n",
    "            count[\"1\"].append(idx)\n",
    "    col_mean = abs(col_mean)\n",
    "    score_std = rmse(original_values[count[\"1\"]], X_filled_et.loc[count[\"1\"], col]) / col_std\n",
    "    score_2std = rmse(original_values[count[\"2\"]], X_filled_et.loc[count[\"2\"], col]) / col_std if len(\n",
    "        count[\"2\"]) != 0 else np.nan\n",
    "    score_3std = rmse(original_values[count[\"3\"]], X_filled_et.loc[count[\"3\"], col]) / col_std if len(\n",
    "        count[\"3\"]) != 0 else np.nan\n",
    "    print(f\"et: {col} score_std: {score_std}, score_2std: {score_2std}, score_3std: {score_3std}\")\n",
    "    df = pd.concat([df, pd.DataFrame({\"RMSE\": [score_std, score_2std, score_3std],\n",
    "                                      \"Method\": [\"MatImpute\", \"MatImpute\", \"MatImpute\"],\n",
    "                                      \"Range\": [\"≤1σ\", \"1~2σ\", \">2σ\"]})], ignore_index=True)\n",
    "\n",
    "    score_std = rmse(original_values[count[\"1\"]], X_filled_hyper.loc[count[\"1\"], col]) / col_std\n",
    "    score_2std = rmse(original_values[count[\"2\"]], X_filled_hyper.loc[count[\"2\"], col]) / col_std if len(\n",
    "        count[\"2\"]) != 0 else np.nan\n",
    "    score_3std = rmse(original_values[count[\"3\"]], X_filled_hyper.loc[count[\"3\"], col]) / col_std if len(\n",
    "        count[\"3\"]) != 0 else np.nan\n",
    "    print(f\"hyper: {col} score_std: {score_std}, score_2std: {score_2std}, score_3std: {score_3std}\")\n",
    "    df = pd.concat([df, pd.DataFrame({\"RMSE\": [score_std, score_2std, score_3std],\n",
    "                                      \"Method\": [\"HyperImpute\", \"HyperImpute\", \"HyperImpute\"],\n",
    "                                      \"Range\": [\"≤1σ\", \"1~2σ\", \">2σ\"]})], ignore_index=True)\n",
    "\n",
    "    score_std = rmse(original_values[count[\"1\"]], X_filled_missforest.loc[count[\"1\"], col]) / col_std\n",
    "    score_2std = rmse(original_values[count[\"2\"]], X_filled_missforest.loc[count[\"2\"], col]) / col_std if len(\n",
    "        count[\"2\"]) != 0 else np.nan\n",
    "    score_3std = rmse(original_values[count[\"3\"]], X_filled_missforest.loc[count[\"3\"], col]) / col_std if len(\n",
    "        count[\"3\"]) != 0 else np.nan\n",
    "    print(f\"missforest: {col} score_std: {score_std}, score_2std: {score_2std}, score_3std: {score_3std}\")\n",
    "    df = pd.concat([df, pd.DataFrame({\"RMSE\": [score_std, score_2std, score_3std],\n",
    "                                      \"Method\": [\"MissForest\", \"MissForest\", \"MissForest\"],\n",
    "                                      \"Range\": [\"≤1σ\", \"1~2σ\", \">2σ\"]})], ignore_index=True)\n",
    "\n",
    "    score_std = rmse(original_values[count[\"1\"]], X_filled_gain.loc[count[\"1\"], col]) / col_std\n",
    "    score_2std = rmse(original_values[count[\"2\"]], X_filled_gain.loc[count[\"2\"], col]) / col_std if len(\n",
    "        count[\"2\"]) != 0 else np.nan\n",
    "    score_3std = rmse(original_values[count[\"3\"]], X_filled_gain.loc[count[\"3\"], col]) / col_std if len(\n",
    "        count[\"3\"]) != 0 else np.nan\n",
    "    print(f\"gain: {col} score_std: {score_std}, score_2std: {score_2std}, score_3std: {score_3std}\")\n",
    "    df = pd.concat([df, pd.DataFrame({\"RMSE\": [score_std, score_2std, score_3std],\n",
    "                                      \"Method\": [\"Gain\", \"Gain\", \"Gain\"],\n",
    "                                      \"Range\": [\"≤1σ\", \"1~2σ\", \">2σ\"]})], ignore_index=True)\n",
    "\n",
    "    score_std = rmse(original_values[count[\"1\"]], X_filled_sinkhorn.loc[count[\"1\"], col]) / col_std\n",
    "    score_2std = rmse(original_values[count[\"2\"]], X_filled_sinkhorn.loc[count[\"2\"], col]) / col_std if len(\n",
    "        count[\"2\"]) != 0 else np.nan\n",
    "    score_3std = rmse(original_values[count[\"3\"]], X_filled_sinkhorn.loc[count[\"3\"], col]) / col_std if len(\n",
    "        count[\"3\"]) != 0 else np.nan\n",
    "    print(f\"sinkhorn: {col} score_std: {score_std}, score_2std: {score_2std}, score_3std: {score_3std}\")\n",
    "    df = pd.concat([df, pd.DataFrame({\"RMSE\": [score_std, score_2std, score_3std],\n",
    "                                      \"Method\": [\"Sinkhorn\", \"Sinkhorn\", \"Sinkhorn\"],\n",
    "                                      \"Range\": [\"≤1σ\", \"1~2σ\", \">2σ\"]})], ignore_index=True)\n",
    "\n",
    "    # mean\n",
    "    score_std = rmse(original_values[count[\"1\"]], X_filled_mean.loc[count[\"1\"], col]) / col_std\n",
    "    score_2std = rmse(original_values[count[\"2\"]], X_filled_mean.loc[count[\"2\"], col]) / col_std if len(\n",
    "        count[\"2\"]) != 0 else np.nan\n",
    "    score_3std = rmse(original_values[count[\"3\"]], X_filled_mean.loc[count[\"3\"], col]) / col_std if len(\n",
    "        count[\"3\"]) != 0 else np.nan\n",
    "    print(f\"mean: {col} score_std: {score_std}, score_2std: {score_2std}, score_3std: {score_3std}\")\n",
    "    df = pd.concat([df, pd.DataFrame({\"RMSE\": [score_std, score_2std, score_3std],\n",
    "                                      \"Method\": [\"Mean\", \"Mean\", \"Mean\"],\n",
    "                                      \"Range\": [\"≤1σ\", \"1~2σ\", \">2σ\"]})], ignore_index=True)\n",
    "    df[\"Col\"] = [col] * df.shape[0]\n",
    "    all_df = pd.concat([all_df, df], ignore_index=True)\n",
    "\n",
    "    df.drop(columns=[\"Col\"], inplace=True)\n",
    "\n",
    "    sns.barplot(x=\"Range\", y=\"RMSE\", hue=\"Method\", data=df, ax=ax, palette=my_palette)\n",
    "    # del legend\n",
    "    ax.get_legend().remove()\n",
    "    # del y label\n",
    "    ax.set_ylabel(\"\")\n",
    "    ax.xaxis.set_tick_params(labelsize=24)\n",
    "    ax.yaxis.set_tick_params(labelsize=24)\n",
    "    # set x label size\n",
    "    ax.set_xlabel(\"Range\", fontsize=24)\n",
    "    # 把标题添加到图的框内\n",
    "    ax.text(0.5, 0.9, col, horizontalalignment='center', verticalalignment='center', transform=ax.transAxes,\n",
    "            fontsize=24)\n",
    "\n",
    "# get legend\n",
    "handles, labels = ax.get_legend_handles_labels()\n",
    "\n",
    "# del empty subplot\n",
    "for i in range(len(missing_columns), len(axs)):\n",
    "    fig.delaxes(axs[i])\n",
    "\n",
    "plt.tight_layout()\n",
    "fig.text(0.02, 0.5, 'RMSE / σ', va='center', rotation='vertical', fontsize=24)\n",
    "fig.subplots_adjust(hspace=0.1, wspace=0.12, left=0.1, bottom=0.1)\n",
    "# plt.savefig(\"std-rmse.png\", dpi=300)\n",
    "all_df.to_excel(\"std-rmse-glass.xlsx\", index=False)"
   ],
   "metadata": {
    "collapsed": false,
    "ExecuteTime": {
     "end_time": "2024-05-08T08:53:45.434347Z",
     "start_time": "2024-05-08T08:53:44.249003Z"
    }
   },
   "id": "812e7eceeb90a9db",
   "execution_count": 15
  },
  {
   "cell_type": "code",
   "outputs": [],
   "source": [],
   "metadata": {
    "collapsed": false,
    "ExecuteTime": {
     "start_time": "2024-05-06T07:20:35.781427Z"
    }
   },
   "id": "9425c43870cf75b6",
   "execution_count": null
  }
 ],
 "metadata": {
  "kernelspec": {
   "display_name": "Python 3",
   "language": "python",
   "name": "python3"
  },
  "language_info": {
   "codemirror_mode": {
    "name": "ipython",
    "version": 2
   },
   "file_extension": ".py",
   "mimetype": "text/x-python",
   "name": "python",
   "nbconvert_exporter": "python",
   "pygments_lexer": "ipython2",
   "version": "2.7.6"
  }
 },
 "nbformat": 4,
 "nbformat_minor": 5
}
