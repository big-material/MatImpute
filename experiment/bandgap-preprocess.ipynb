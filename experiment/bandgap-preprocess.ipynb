{
 "cells": [
  {
   "cell_type": "code",
   "execution_count": 7,
   "id": "initial_id",
   "metadata": {
    "collapsed": true,
    "ExecuteTime": {
     "end_time": "2024-05-10T07:26:40.655214Z",
     "start_time": "2024-05-10T07:26:40.604444Z"
    }
   },
   "outputs": [
    {
     "data": {
      "text/plain": "           formula  avg_1st_ionization_potential_(kJ/mol)  \\\n0          DyIn3S6                             824.700000   \n1      K4Ba2Nb4S22                             852.812500   \n2       K2Ho4Cu4S9                             796.947368   \n3     Pb0.9Mn0.1Te                             792.550000   \n4         RbInSnS4                             810.000000   \n...            ...                                    ...   \n2478          ZnSe                             923.500000   \n2479       ZnYBiO4                            1066.428571   \n2480          Zr3O                             808.500000   \n2481           ZrC                             863.000000   \n2482          ZrS3                             910.000000   \n\n      avg_Allred-Rockow_electronegativity  avg_Atomic_Number  \\\n0                                2.161000          30.900000   \n1                                2.103125          22.000000   \n2                                1.922632          29.789474   \n3                                2.001800          64.150000   \n4                                2.078571          28.571429   \n...                                   ...                ...   \n2478                             2.010000          32.000000   \n2479                             2.737143          26.285714   \n2480                             1.892500          32.000000   \n2481                             1.930000          23.000000   \n2482                             2.272500          22.000000   \n\n      avg_Atomic_Radus  avg_Atomic_Weight  avg_Boiling_Point_(K)  \\\n0             1.224000          69.938000            1420.670000   \n1             1.314375          47.132500            1369.131250   \n2             1.453684          67.407962            1672.639474   \n3             1.388500         159.787000            1649.150000   \n4             1.311429          63.897143            1246.692857   \n...                ...                ...                    ...   \n2478          1.225000          72.175000            1068.650000   \n2479          0.984286          61.040053             997.578571   \n2480          1.665000          72.415000            3510.150000   \n2481          1.365000          51.615000            4875.150000   \n2482          1.175000          46.857500            1700.925000   \n\n      avg_Cohesive_energy  avg_Covalent_Radius  avg_Critical_Temperature  ...  \\\n0                2.770000             1.203000               3571.400000  ...   \n1                3.140625             1.241250               2473.125000  ...   \n2                2.843684             1.312632               3591.368421  ...   \n3                2.154500             1.406000               3810.850000  ...   \n4                2.558571             1.291429               2841.142857  ...   \n...                   ...                  ...                       ...  ...   \n2478             1.905000             1.235000               2568.500000  ...   \n2479             2.625714             1.044286               2509.760000  ...   \n2480             5.342500             1.292500               6526.145000  ...   \n2481             6.810000             1.125000               7696.500000  ...   \n2482             3.700000             1.135000               3148.000000  ...   \n\n      range_number_of_valence_electrons  range_outer_shell_electrons  \\\n0                                     3                            4   \n1                                     5                            5   \n2                                    10                            5   \n3                                     3                            2   \n4                                     5                            5   \n...                                 ...                          ...   \n2478                                  6                            4   \n2479                                  9                            4   \n2480                                  2                            4   \n2481                                  0                            2   \n2482                                  2                            4   \n\n      range_polarizability(A^3)  range_specific_heat_(J/g_K)_  \\\n0                         21.60                          0.54   \n1                         40.50                          0.55   \n2                         40.50                          0.59   \n3                          3.90                          0.35   \n4                         44.40                          0.48   \n...                         ...                           ...   \n2478                       2.60                          0.07   \n2479                      21.91                          0.80   \n2480                      17.11                          0.65   \n2481                      16.10                          0.44   \n2482                      15.00                          0.44   \n\n      range_thermal_conductivity_(W/(m_K))_  range_valence_d  range_valence_f  \\\n0                                     81.33               10               10   \n1                                    102.13                4                0   \n2                                    400.73               10               11   \n3                                     32.95                5               14   \n4                                     81.33               10                0   \n...                                     ...              ...              ...   \n2478                                 115.48               10                0   \n2479                                 115.97               10               14   \n2480                                  22.67                2                0   \n2481                                 106.30                2                0   \n2482                                  22.43                2                0   \n\n      range_valence_p  range_valence_s    target  \n0                   4                0  1.220000  \n1                   4                1  1.770000  \n2                   4                1  2.430000  \n3                   4                0  0.490000  \n4                   4                1  2.700000  \n...               ...              ...       ...  \n2478                4                0  2.775131  \n2479                4                0  1.580000  \n2480                4                0  0.200000  \n2481                2                0  0.600000  \n2482                4                0  2.225000  \n\n[2483 rows x 131 columns]",
      "text/html": "<div>\n<style scoped>\n    .dataframe tbody tr th:only-of-type {\n        vertical-align: middle;\n    }\n\n    .dataframe tbody tr th {\n        vertical-align: top;\n    }\n\n    .dataframe thead th {\n        text-align: right;\n    }\n</style>\n<table border=\"1\" class=\"dataframe\">\n  <thead>\n    <tr style=\"text-align: right;\">\n      <th></th>\n      <th>formula</th>\n      <th>avg_1st_ionization_potential_(kJ/mol)</th>\n      <th>avg_Allred-Rockow_electronegativity</th>\n      <th>avg_Atomic_Number</th>\n      <th>avg_Atomic_Radus</th>\n      <th>avg_Atomic_Weight</th>\n      <th>avg_Boiling_Point_(K)</th>\n      <th>avg_Cohesive_energy</th>\n      <th>avg_Covalent_Radius</th>\n      <th>avg_Critical_Temperature</th>\n      <th>...</th>\n      <th>range_number_of_valence_electrons</th>\n      <th>range_outer_shell_electrons</th>\n      <th>range_polarizability(A^3)</th>\n      <th>range_specific_heat_(J/g_K)_</th>\n      <th>range_thermal_conductivity_(W/(m_K))_</th>\n      <th>range_valence_d</th>\n      <th>range_valence_f</th>\n      <th>range_valence_p</th>\n      <th>range_valence_s</th>\n      <th>target</th>\n    </tr>\n  </thead>\n  <tbody>\n    <tr>\n      <th>0</th>\n      <td>DyIn3S6</td>\n      <td>824.700000</td>\n      <td>2.161000</td>\n      <td>30.900000</td>\n      <td>1.224000</td>\n      <td>69.938000</td>\n      <td>1420.670000</td>\n      <td>2.770000</td>\n      <td>1.203000</td>\n      <td>3571.400000</td>\n      <td>...</td>\n      <td>3</td>\n      <td>4</td>\n      <td>21.60</td>\n      <td>0.54</td>\n      <td>81.33</td>\n      <td>10</td>\n      <td>10</td>\n      <td>4</td>\n      <td>0</td>\n      <td>1.220000</td>\n    </tr>\n    <tr>\n      <th>1</th>\n      <td>K4Ba2Nb4S22</td>\n      <td>852.812500</td>\n      <td>2.103125</td>\n      <td>22.000000</td>\n      <td>1.314375</td>\n      <td>47.132500</td>\n      <td>1369.131250</td>\n      <td>3.140625</td>\n      <td>1.241250</td>\n      <td>2473.125000</td>\n      <td>...</td>\n      <td>5</td>\n      <td>5</td>\n      <td>40.50</td>\n      <td>0.55</td>\n      <td>102.13</td>\n      <td>4</td>\n      <td>0</td>\n      <td>4</td>\n      <td>1</td>\n      <td>1.770000</td>\n    </tr>\n    <tr>\n      <th>2</th>\n      <td>K2Ho4Cu4S9</td>\n      <td>796.947368</td>\n      <td>1.922632</td>\n      <td>29.789474</td>\n      <td>1.453684</td>\n      <td>67.407962</td>\n      <td>1672.639474</td>\n      <td>2.843684</td>\n      <td>1.312632</td>\n      <td>3591.368421</td>\n      <td>...</td>\n      <td>10</td>\n      <td>5</td>\n      <td>40.50</td>\n      <td>0.59</td>\n      <td>400.73</td>\n      <td>10</td>\n      <td>11</td>\n      <td>4</td>\n      <td>1</td>\n      <td>2.430000</td>\n    </tr>\n    <tr>\n      <th>3</th>\n      <td>Pb0.9Mn0.1Te</td>\n      <td>792.550000</td>\n      <td>2.001800</td>\n      <td>64.150000</td>\n      <td>1.388500</td>\n      <td>159.787000</td>\n      <td>1649.150000</td>\n      <td>2.154500</td>\n      <td>1.406000</td>\n      <td>3810.850000</td>\n      <td>...</td>\n      <td>3</td>\n      <td>2</td>\n      <td>3.90</td>\n      <td>0.35</td>\n      <td>32.95</td>\n      <td>5</td>\n      <td>14</td>\n      <td>4</td>\n      <td>0</td>\n      <td>0.490000</td>\n    </tr>\n    <tr>\n      <th>4</th>\n      <td>RbInSnS4</td>\n      <td>810.000000</td>\n      <td>2.078571</td>\n      <td>28.571429</td>\n      <td>1.311429</td>\n      <td>63.897143</td>\n      <td>1246.692857</td>\n      <td>2.558571</td>\n      <td>1.291429</td>\n      <td>2841.142857</td>\n      <td>...</td>\n      <td>5</td>\n      <td>5</td>\n      <td>44.40</td>\n      <td>0.48</td>\n      <td>81.33</td>\n      <td>10</td>\n      <td>0</td>\n      <td>4</td>\n      <td>1</td>\n      <td>2.700000</td>\n    </tr>\n    <tr>\n      <th>...</th>\n      <td>...</td>\n      <td>...</td>\n      <td>...</td>\n      <td>...</td>\n      <td>...</td>\n      <td>...</td>\n      <td>...</td>\n      <td>...</td>\n      <td>...</td>\n      <td>...</td>\n      <td>...</td>\n      <td>...</td>\n      <td>...</td>\n      <td>...</td>\n      <td>...</td>\n      <td>...</td>\n      <td>...</td>\n      <td>...</td>\n      <td>...</td>\n      <td>...</td>\n      <td>...</td>\n    </tr>\n    <tr>\n      <th>2478</th>\n      <td>ZnSe</td>\n      <td>923.500000</td>\n      <td>2.010000</td>\n      <td>32.000000</td>\n      <td>1.225000</td>\n      <td>72.175000</td>\n      <td>1068.650000</td>\n      <td>1.905000</td>\n      <td>1.235000</td>\n      <td>2568.500000</td>\n      <td>...</td>\n      <td>6</td>\n      <td>4</td>\n      <td>2.60</td>\n      <td>0.07</td>\n      <td>115.48</td>\n      <td>10</td>\n      <td>0</td>\n      <td>4</td>\n      <td>0</td>\n      <td>2.775131</td>\n    </tr>\n    <tr>\n      <th>2479</th>\n      <td>ZnYBiO4</td>\n      <td>1066.428571</td>\n      <td>2.737143</td>\n      <td>26.285714</td>\n      <td>0.984286</td>\n      <td>61.040053</td>\n      <td>997.578571</td>\n      <td>2.625714</td>\n      <td>1.044286</td>\n      <td>2509.760000</td>\n      <td>...</td>\n      <td>9</td>\n      <td>4</td>\n      <td>21.91</td>\n      <td>0.80</td>\n      <td>115.97</td>\n      <td>10</td>\n      <td>14</td>\n      <td>4</td>\n      <td>0</td>\n      <td>1.580000</td>\n    </tr>\n    <tr>\n      <th>2480</th>\n      <td>Zr3O</td>\n      <td>808.500000</td>\n      <td>1.892500</td>\n      <td>32.000000</td>\n      <td>1.665000</td>\n      <td>72.415000</td>\n      <td>3510.150000</td>\n      <td>5.342500</td>\n      <td>1.292500</td>\n      <td>6526.145000</td>\n      <td>...</td>\n      <td>2</td>\n      <td>4</td>\n      <td>17.11</td>\n      <td>0.65</td>\n      <td>22.67</td>\n      <td>2</td>\n      <td>0</td>\n      <td>4</td>\n      <td>0</td>\n      <td>0.200000</td>\n    </tr>\n    <tr>\n      <th>2481</th>\n      <td>ZrC</td>\n      <td>863.000000</td>\n      <td>1.930000</td>\n      <td>23.000000</td>\n      <td>1.365000</td>\n      <td>51.615000</td>\n      <td>4875.150000</td>\n      <td>6.810000</td>\n      <td>1.125000</td>\n      <td>7696.500000</td>\n      <td>...</td>\n      <td>0</td>\n      <td>2</td>\n      <td>16.10</td>\n      <td>0.44</td>\n      <td>106.30</td>\n      <td>2</td>\n      <td>0</td>\n      <td>2</td>\n      <td>0</td>\n      <td>0.600000</td>\n    </tr>\n    <tr>\n      <th>2482</th>\n      <td>ZrS3</td>\n      <td>910.000000</td>\n      <td>2.272500</td>\n      <td>22.000000</td>\n      <td>1.175000</td>\n      <td>46.857500</td>\n      <td>1700.925000</td>\n      <td>3.700000</td>\n      <td>1.135000</td>\n      <td>3148.000000</td>\n      <td>...</td>\n      <td>2</td>\n      <td>4</td>\n      <td>15.00</td>\n      <td>0.44</td>\n      <td>22.43</td>\n      <td>2</td>\n      <td>0</td>\n      <td>4</td>\n      <td>0</td>\n      <td>2.225000</td>\n    </tr>\n  </tbody>\n</table>\n<p>2483 rows × 131 columns</p>\n</div>"
     },
     "execution_count": 7,
     "metadata": {},
     "output_type": "execute_result"
    }
   ],
   "source": [
    "import pandas as pd\n",
    "import numpy as np\n",
    "import matplotlib.pyplot as plt\n",
    "import seaborn as sns\n",
    "import os\n",
    "import sys\n",
    "\n",
    "df = pd.read_csv('dataset/bandgap-ori.csv')\n",
    "df"
   ]
  },
  {
   "cell_type": "code",
   "outputs": [],
   "source": [
    "\n",
    "df = df.drop(['formula'], axis=1)"
   ],
   "metadata": {
    "collapsed": false,
    "ExecuteTime": {
     "end_time": "2024-05-10T07:26:51.756545Z",
     "start_time": "2024-05-10T07:26:51.751140Z"
    }
   },
   "id": "ea3e679c526486be",
   "execution_count": 8
  },
  {
   "cell_type": "code",
   "outputs": [
    {
     "data": {
      "text/plain": "Index(['avg_Density_(g/mL)', 'avg_Gordy_electonegativity',\n       'avg_Number_of_unfilled_d_valence_electrons', 'avg_abs_valence',\n       'avg_metallic_valence', 'avg_valence_d', 'sum_Density_(g/mL)',\n       'sum_heat_atomization(kJ/mol)', 'sum_valence_d', 'range_Density_(g/mL)',\n       'range_Nagle_electonegativity', 'range_heat_of_fusion_(kJ/mol)_'],\n      dtype='object')"
     },
     "execution_count": 9,
     "metadata": {},
     "output_type": "execute_result"
    }
   ],
   "source": [
    "# select the features\n",
    "from sklearn.feature_selection import SelectFromModel, SelectKBest\n",
    "from sklearn.ensemble import RandomForestRegressor\n",
    "\n",
    "X = df.drop(['target'], axis=1)\n",
    "y = df['target']\n",
    "sel = SelectFromModel(RandomForestRegressor(n_estimators=100, random_state=0))\n",
    "sel.fit(X, y)\n",
    "selected_features = X.columns[sel.get_support()]\n",
    "selected_features"
   ],
   "metadata": {
    "collapsed": false,
    "ExecuteTime": {
     "end_time": "2024-05-10T07:27:05.200367Z",
     "start_time": "2024-05-10T07:26:52.875600Z"
    }
   },
   "id": "8386431915aaaaad",
   "execution_count": 9
  },
  {
   "cell_type": "code",
   "outputs": [],
   "source": [
    "df = df[selected_features.tolist() + ['target']]"
   ],
   "metadata": {
    "collapsed": false,
    "ExecuteTime": {
     "end_time": "2024-05-10T07:27:06.892404Z",
     "start_time": "2024-05-10T07:27:06.887577Z"
    }
   },
   "id": "20bc3911b887142a",
   "execution_count": 10
  },
  {
   "cell_type": "code",
   "outputs": [],
   "source": [
    "df.to_csv('dataset/bandgap.csv', index=False)"
   ],
   "metadata": {
    "collapsed": false,
    "ExecuteTime": {
     "end_time": "2024-05-10T07:27:09.155003Z",
     "start_time": "2024-05-10T07:27:09.134588Z"
    }
   },
   "id": "671bb42a88a5d7cd",
   "execution_count": 11
  },
  {
   "cell_type": "code",
   "outputs": [],
   "source": [],
   "metadata": {
    "collapsed": false
   },
   "id": "597f12228342b37b"
  }
 ],
 "metadata": {
  "kernelspec": {
   "display_name": "Python 3",
   "language": "python",
   "name": "python3"
  },
  "language_info": {
   "codemirror_mode": {
    "name": "ipython",
    "version": 2
   },
   "file_extension": ".py",
   "mimetype": "text/x-python",
   "name": "python",
   "nbconvert_exporter": "python",
   "pygments_lexer": "ipython2",
   "version": "2.7.6"
  }
 },
 "nbformat": 4,
 "nbformat_minor": 5
}
